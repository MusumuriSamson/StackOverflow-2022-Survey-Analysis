{
 "cells": [
  {
   "cell_type": "markdown",
   "metadata": {},
   "source": [
    "## Introduction\n",
    "\n",
    "### We'll look at the StackOverflow Developer Survey 2022 dataset in this notebook. The dataset comprises replies to StackOverflow's yearly survey.\n",
    "### The official dataset can be  found at this link -> https://insights.stackoverflow.com/survey\n",
    "\n",
    "### There are two files\n",
    "### 1) survey_results_public.csv\n",
    "### 2) survey_results_schema.csv\n",
    "\n",
    "### The schema files consists of the questions asked in the survey and the values are stored in the 'survey_results_public' dataset"
   ]
  },
  {
   "cell_type": "markdown",
   "metadata": {},
   "source": [
    "\n",
    "## Importing all the necessary libraries required for our analysis"
   ]
  },
  {
   "cell_type": "code",
   "execution_count": 91,
   "metadata": {},
   "outputs": [],
   "source": [
    "import  pandas as pd\n",
    "import matplotlib.pyplot as plt\n",
    "import numpy as np\n",
    "import seaborn as sns\n",
    "import plotly.express as px\n",
    "\n",
    "# from plotly.offline import plot, iplot, init_notebook_mode\n",
    "# import plotly.graph_objs as go\n",
    "# init_notebook_mode(connected=True)\n",
    "\n",
    "from gitly.colab.plot import GitlyPlotter\n",
    "gitly = GitlyPlotter('github')\n",
    "\n",
    "import warnings\n",
    "warnings.filterwarnings('ignore')\n",
    "%matplotlib inline"
   ]
  },
  {
   "cell_type": "code",
   "execution_count": 92,
   "metadata": {
    "collapsed": false
   },
   "outputs": [],
   "source": [
    "import chart_studio.plotly as py"
   ]
  },
  {
   "cell_type": "code",
   "execution_count": 93,
   "metadata": {
    "collapsed": false
   },
   "outputs": [],
   "source": [
    "import chart_studio\n",
    "username='samson.musumuri'\n",
    "api_key='BtoFFk78dIVkXYFD4A3r'\n",
    "chart_studio.tools.set_credentials_file(username=username,\n",
    "                                        api_key=api_key)"
   ]
  },
  {
   "cell_type": "code",
   "execution_count": 94,
   "metadata": {},
   "outputs": [],
   "source": [
    "# Reading the dataset\n",
    "df = pd.read_csv(\"data/survey_results_public.csv\")\n",
    "# Reading the schema\n",
    "df_schema = pd.read_csv(\"data/survey_results_schema.csv\",index_col=\"qname\")"
   ]
  },
  {
   "cell_type": "code",
   "execution_count": 95,
   "metadata": {},
   "outputs": [
    {
     "data": {
      "text/html": [
       "<div>\n",
       "<style scoped>\n",
       "    .dataframe tbody tr th:only-of-type {\n",
       "        vertical-align: middle;\n",
       "    }\n",
       "\n",
       "    .dataframe tbody tr th {\n",
       "        vertical-align: top;\n",
       "    }\n",
       "\n",
       "    .dataframe thead th {\n",
       "        text-align: right;\n",
       "    }\n",
       "</style>\n",
       "<table border=\"1\" class=\"dataframe\">\n",
       "  <thead>\n",
       "    <tr style=\"text-align: right;\">\n",
       "      <th></th>\n",
       "      <th>ResponseId</th>\n",
       "      <th>MainBranch</th>\n",
       "      <th>Employment</th>\n",
       "      <th>RemoteWork</th>\n",
       "      <th>CodingActivities</th>\n",
       "      <th>EdLevel</th>\n",
       "      <th>LearnCode</th>\n",
       "      <th>LearnCodeOnline</th>\n",
       "      <th>LearnCodeCoursesCert</th>\n",
       "      <th>YearsCode</th>\n",
       "      <th>...</th>\n",
       "      <th>TimeSearching</th>\n",
       "      <th>TimeAnswering</th>\n",
       "      <th>Onboarding</th>\n",
       "      <th>ProfessionalTech</th>\n",
       "      <th>TrueFalse_1</th>\n",
       "      <th>TrueFalse_2</th>\n",
       "      <th>TrueFalse_3</th>\n",
       "      <th>SurveyLength</th>\n",
       "      <th>SurveyEase</th>\n",
       "      <th>ConvertedCompYearly</th>\n",
       "    </tr>\n",
       "  </thead>\n",
       "  <tbody>\n",
       "    <tr>\n",
       "      <th>0</th>\n",
       "      <td>1</td>\n",
       "      <td>None of these</td>\n",
       "      <td>NaN</td>\n",
       "      <td>NaN</td>\n",
       "      <td>NaN</td>\n",
       "      <td>NaN</td>\n",
       "      <td>NaN</td>\n",
       "      <td>NaN</td>\n",
       "      <td>NaN</td>\n",
       "      <td>NaN</td>\n",
       "      <td>...</td>\n",
       "      <td>NaN</td>\n",
       "      <td>NaN</td>\n",
       "      <td>NaN</td>\n",
       "      <td>NaN</td>\n",
       "      <td>NaN</td>\n",
       "      <td>NaN</td>\n",
       "      <td>NaN</td>\n",
       "      <td>NaN</td>\n",
       "      <td>NaN</td>\n",
       "      <td>NaN</td>\n",
       "    </tr>\n",
       "    <tr>\n",
       "      <th>1</th>\n",
       "      <td>2</td>\n",
       "      <td>I am a developer by profession</td>\n",
       "      <td>Employed, full-time</td>\n",
       "      <td>Fully remote</td>\n",
       "      <td>Hobby;Contribute to open-source projects</td>\n",
       "      <td>NaN</td>\n",
       "      <td>NaN</td>\n",
       "      <td>NaN</td>\n",
       "      <td>NaN</td>\n",
       "      <td>NaN</td>\n",
       "      <td>...</td>\n",
       "      <td>NaN</td>\n",
       "      <td>NaN</td>\n",
       "      <td>NaN</td>\n",
       "      <td>NaN</td>\n",
       "      <td>NaN</td>\n",
       "      <td>NaN</td>\n",
       "      <td>NaN</td>\n",
       "      <td>Too long</td>\n",
       "      <td>Difficult</td>\n",
       "      <td>NaN</td>\n",
       "    </tr>\n",
       "    <tr>\n",
       "      <th>2</th>\n",
       "      <td>3</td>\n",
       "      <td>I am not primarily a developer, but I write co...</td>\n",
       "      <td>Employed, full-time</td>\n",
       "      <td>Hybrid (some remote, some in-person)</td>\n",
       "      <td>Hobby</td>\n",
       "      <td>Master’s degree (M.A., M.S., M.Eng., MBA, etc.)</td>\n",
       "      <td>Books / Physical media;Friend or family member...</td>\n",
       "      <td>Technical documentation;Blogs;Programming Game...</td>\n",
       "      <td>NaN</td>\n",
       "      <td>14</td>\n",
       "      <td>...</td>\n",
       "      <td>NaN</td>\n",
       "      <td>NaN</td>\n",
       "      <td>NaN</td>\n",
       "      <td>NaN</td>\n",
       "      <td>NaN</td>\n",
       "      <td>NaN</td>\n",
       "      <td>NaN</td>\n",
       "      <td>Appropriate in length</td>\n",
       "      <td>Neither easy nor difficult</td>\n",
       "      <td>40205.0</td>\n",
       "    </tr>\n",
       "    <tr>\n",
       "      <th>3</th>\n",
       "      <td>4</td>\n",
       "      <td>I am a developer by profession</td>\n",
       "      <td>Employed, full-time</td>\n",
       "      <td>Fully remote</td>\n",
       "      <td>I don’t code outside of work</td>\n",
       "      <td>Bachelor’s degree (B.A., B.S., B.Eng., etc.)</td>\n",
       "      <td>Books / Physical media;School (i.e., Universit...</td>\n",
       "      <td>NaN</td>\n",
       "      <td>NaN</td>\n",
       "      <td>20</td>\n",
       "      <td>...</td>\n",
       "      <td>NaN</td>\n",
       "      <td>NaN</td>\n",
       "      <td>NaN</td>\n",
       "      <td>NaN</td>\n",
       "      <td>NaN</td>\n",
       "      <td>NaN</td>\n",
       "      <td>NaN</td>\n",
       "      <td>Appropriate in length</td>\n",
       "      <td>Easy</td>\n",
       "      <td>215232.0</td>\n",
       "    </tr>\n",
       "    <tr>\n",
       "      <th>4</th>\n",
       "      <td>5</td>\n",
       "      <td>I am a developer by profession</td>\n",
       "      <td>Employed, full-time</td>\n",
       "      <td>Hybrid (some remote, some in-person)</td>\n",
       "      <td>Hobby</td>\n",
       "      <td>Bachelor’s degree (B.A., B.S., B.Eng., etc.)</td>\n",
       "      <td>Other online resources (e.g., videos, blogs, f...</td>\n",
       "      <td>Technical documentation;Blogs;Stack Overflow;O...</td>\n",
       "      <td>NaN</td>\n",
       "      <td>8</td>\n",
       "      <td>...</td>\n",
       "      <td>NaN</td>\n",
       "      <td>NaN</td>\n",
       "      <td>NaN</td>\n",
       "      <td>NaN</td>\n",
       "      <td>NaN</td>\n",
       "      <td>NaN</td>\n",
       "      <td>NaN</td>\n",
       "      <td>Too long</td>\n",
       "      <td>Easy</td>\n",
       "      <td>NaN</td>\n",
       "    </tr>\n",
       "    <tr>\n",
       "      <th>5</th>\n",
       "      <td>6</td>\n",
       "      <td>I am not primarily a developer, but I write co...</td>\n",
       "      <td>Student, full-time</td>\n",
       "      <td>NaN</td>\n",
       "      <td>NaN</td>\n",
       "      <td>Master’s degree (M.A., M.S., M.Eng., MBA, etc.)</td>\n",
       "      <td>Books / Physical media;School (i.e., Universit...</td>\n",
       "      <td>NaN</td>\n",
       "      <td>NaN</td>\n",
       "      <td>15</td>\n",
       "      <td>...</td>\n",
       "      <td>NaN</td>\n",
       "      <td>NaN</td>\n",
       "      <td>NaN</td>\n",
       "      <td>NaN</td>\n",
       "      <td>NaN</td>\n",
       "      <td>NaN</td>\n",
       "      <td>NaN</td>\n",
       "      <td>Appropriate in length</td>\n",
       "      <td>Easy</td>\n",
       "      <td>NaN</td>\n",
       "    </tr>\n",
       "    <tr>\n",
       "      <th>6</th>\n",
       "      <td>7</td>\n",
       "      <td>I code primarily as a hobby</td>\n",
       "      <td>Student, part-time</td>\n",
       "      <td>NaN</td>\n",
       "      <td>NaN</td>\n",
       "      <td>Secondary school (e.g. American high school, G...</td>\n",
       "      <td>Other online resources (e.g., videos, blogs, f...</td>\n",
       "      <td>Stack Overflow;Video-based Online Courses</td>\n",
       "      <td>NaN</td>\n",
       "      <td>3</td>\n",
       "      <td>...</td>\n",
       "      <td>NaN</td>\n",
       "      <td>NaN</td>\n",
       "      <td>NaN</td>\n",
       "      <td>NaN</td>\n",
       "      <td>NaN</td>\n",
       "      <td>NaN</td>\n",
       "      <td>NaN</td>\n",
       "      <td>Appropriate in length</td>\n",
       "      <td>Easy</td>\n",
       "      <td>NaN</td>\n",
       "    </tr>\n",
       "    <tr>\n",
       "      <th>7</th>\n",
       "      <td>8</td>\n",
       "      <td>I am a developer by profession</td>\n",
       "      <td>Not employed, but looking for work</td>\n",
       "      <td>NaN</td>\n",
       "      <td>NaN</td>\n",
       "      <td>Some college/university study without earning ...</td>\n",
       "      <td>Online Courses or Certification</td>\n",
       "      <td>NaN</td>\n",
       "      <td>Coursera;Udemy</td>\n",
       "      <td>1</td>\n",
       "      <td>...</td>\n",
       "      <td>NaN</td>\n",
       "      <td>NaN</td>\n",
       "      <td>NaN</td>\n",
       "      <td>NaN</td>\n",
       "      <td>NaN</td>\n",
       "      <td>NaN</td>\n",
       "      <td>NaN</td>\n",
       "      <td>Appropriate in length</td>\n",
       "      <td>Easy</td>\n",
       "      <td>NaN</td>\n",
       "    </tr>\n",
       "    <tr>\n",
       "      <th>8</th>\n",
       "      <td>9</td>\n",
       "      <td>I am a developer by profession</td>\n",
       "      <td>Employed, full-time</td>\n",
       "      <td>Hybrid (some remote, some in-person)</td>\n",
       "      <td>I don’t code outside of work</td>\n",
       "      <td>Master’s degree (M.A., M.S., M.Eng., MBA, etc.)</td>\n",
       "      <td>On the job training;Coding Bootcamp</td>\n",
       "      <td>NaN</td>\n",
       "      <td>NaN</td>\n",
       "      <td>6</td>\n",
       "      <td>...</td>\n",
       "      <td>15-30 minutes a day</td>\n",
       "      <td>Over 120 minutes a day</td>\n",
       "      <td>Somewhat long</td>\n",
       "      <td>Innersource initiative;DevOps function;Microse...</td>\n",
       "      <td>Yes</td>\n",
       "      <td>Yes</td>\n",
       "      <td>Yes</td>\n",
       "      <td>Appropriate in length</td>\n",
       "      <td>Easy</td>\n",
       "      <td>49056.0</td>\n",
       "    </tr>\n",
       "    <tr>\n",
       "      <th>9</th>\n",
       "      <td>10</td>\n",
       "      <td>I am a developer by profession</td>\n",
       "      <td>Independent contractor, freelancer, or self-em...</td>\n",
       "      <td>Fully remote</td>\n",
       "      <td>Hobby;Contribute to open-source projects;Boots...</td>\n",
       "      <td>Some college/university study without earning ...</td>\n",
       "      <td>Books / Physical media;Other online resources ...</td>\n",
       "      <td>Technical documentation;Blogs;Written Tutorial...</td>\n",
       "      <td>NaN</td>\n",
       "      <td>37</td>\n",
       "      <td>...</td>\n",
       "      <td>NaN</td>\n",
       "      <td>NaN</td>\n",
       "      <td>NaN</td>\n",
       "      <td>NaN</td>\n",
       "      <td>NaN</td>\n",
       "      <td>NaN</td>\n",
       "      <td>NaN</td>\n",
       "      <td>Appropriate in length</td>\n",
       "      <td>Easy</td>\n",
       "      <td>NaN</td>\n",
       "    </tr>\n",
       "  </tbody>\n",
       "</table>\n",
       "<p>10 rows × 79 columns</p>\n",
       "</div>"
      ],
      "text/plain": [
       "   ResponseId                                         MainBranch  \\\n",
       "0           1                                      None of these   \n",
       "1           2                     I am a developer by profession   \n",
       "2           3  I am not primarily a developer, but I write co...   \n",
       "3           4                     I am a developer by profession   \n",
       "4           5                     I am a developer by profession   \n",
       "5           6  I am not primarily a developer, but I write co...   \n",
       "6           7                        I code primarily as a hobby   \n",
       "7           8                     I am a developer by profession   \n",
       "8           9                     I am a developer by profession   \n",
       "9          10                     I am a developer by profession   \n",
       "\n",
       "                                          Employment  \\\n",
       "0                                                NaN   \n",
       "1                                Employed, full-time   \n",
       "2                                Employed, full-time   \n",
       "3                                Employed, full-time   \n",
       "4                                Employed, full-time   \n",
       "5                                 Student, full-time   \n",
       "6                                 Student, part-time   \n",
       "7                 Not employed, but looking for work   \n",
       "8                                Employed, full-time   \n",
       "9  Independent contractor, freelancer, or self-em...   \n",
       "\n",
       "                             RemoteWork  \\\n",
       "0                                   NaN   \n",
       "1                          Fully remote   \n",
       "2  Hybrid (some remote, some in-person)   \n",
       "3                          Fully remote   \n",
       "4  Hybrid (some remote, some in-person)   \n",
       "5                                   NaN   \n",
       "6                                   NaN   \n",
       "7                                   NaN   \n",
       "8  Hybrid (some remote, some in-person)   \n",
       "9                          Fully remote   \n",
       "\n",
       "                                    CodingActivities  \\\n",
       "0                                                NaN   \n",
       "1           Hobby;Contribute to open-source projects   \n",
       "2                                              Hobby   \n",
       "3                       I don’t code outside of work   \n",
       "4                                              Hobby   \n",
       "5                                                NaN   \n",
       "6                                                NaN   \n",
       "7                                                NaN   \n",
       "8                       I don’t code outside of work   \n",
       "9  Hobby;Contribute to open-source projects;Boots...   \n",
       "\n",
       "                                             EdLevel  \\\n",
       "0                                                NaN   \n",
       "1                                                NaN   \n",
       "2    Master’s degree (M.A., M.S., M.Eng., MBA, etc.)   \n",
       "3       Bachelor’s degree (B.A., B.S., B.Eng., etc.)   \n",
       "4       Bachelor’s degree (B.A., B.S., B.Eng., etc.)   \n",
       "5    Master’s degree (M.A., M.S., M.Eng., MBA, etc.)   \n",
       "6  Secondary school (e.g. American high school, G...   \n",
       "7  Some college/university study without earning ...   \n",
       "8    Master’s degree (M.A., M.S., M.Eng., MBA, etc.)   \n",
       "9  Some college/university study without earning ...   \n",
       "\n",
       "                                           LearnCode  \\\n",
       "0                                                NaN   \n",
       "1                                                NaN   \n",
       "2  Books / Physical media;Friend or family member...   \n",
       "3  Books / Physical media;School (i.e., Universit...   \n",
       "4  Other online resources (e.g., videos, blogs, f...   \n",
       "5  Books / Physical media;School (i.e., Universit...   \n",
       "6  Other online resources (e.g., videos, blogs, f...   \n",
       "7                    Online Courses or Certification   \n",
       "8                On the job training;Coding Bootcamp   \n",
       "9  Books / Physical media;Other online resources ...   \n",
       "\n",
       "                                     LearnCodeOnline LearnCodeCoursesCert  \\\n",
       "0                                                NaN                  NaN   \n",
       "1                                                NaN                  NaN   \n",
       "2  Technical documentation;Blogs;Programming Game...                  NaN   \n",
       "3                                                NaN                  NaN   \n",
       "4  Technical documentation;Blogs;Stack Overflow;O...                  NaN   \n",
       "5                                                NaN                  NaN   \n",
       "6          Stack Overflow;Video-based Online Courses                  NaN   \n",
       "7                                                NaN       Coursera;Udemy   \n",
       "8                                                NaN                  NaN   \n",
       "9  Technical documentation;Blogs;Written Tutorial...                  NaN   \n",
       "\n",
       "  YearsCode  ...        TimeSearching           TimeAnswering     Onboarding  \\\n",
       "0       NaN  ...                  NaN                     NaN            NaN   \n",
       "1       NaN  ...                  NaN                     NaN            NaN   \n",
       "2        14  ...                  NaN                     NaN            NaN   \n",
       "3        20  ...                  NaN                     NaN            NaN   \n",
       "4         8  ...                  NaN                     NaN            NaN   \n",
       "5        15  ...                  NaN                     NaN            NaN   \n",
       "6         3  ...                  NaN                     NaN            NaN   \n",
       "7         1  ...                  NaN                     NaN            NaN   \n",
       "8         6  ...  15-30 minutes a day  Over 120 minutes a day  Somewhat long   \n",
       "9        37  ...                  NaN                     NaN            NaN   \n",
       "\n",
       "                                    ProfessionalTech TrueFalse_1 TrueFalse_2  \\\n",
       "0                                                NaN         NaN         NaN   \n",
       "1                                                NaN         NaN         NaN   \n",
       "2                                                NaN         NaN         NaN   \n",
       "3                                                NaN         NaN         NaN   \n",
       "4                                                NaN         NaN         NaN   \n",
       "5                                                NaN         NaN         NaN   \n",
       "6                                                NaN         NaN         NaN   \n",
       "7                                                NaN         NaN         NaN   \n",
       "8  Innersource initiative;DevOps function;Microse...         Yes         Yes   \n",
       "9                                                NaN         NaN         NaN   \n",
       "\n",
       "  TrueFalse_3           SurveyLength                  SurveyEase  \\\n",
       "0         NaN                    NaN                         NaN   \n",
       "1         NaN               Too long                   Difficult   \n",
       "2         NaN  Appropriate in length  Neither easy nor difficult   \n",
       "3         NaN  Appropriate in length                        Easy   \n",
       "4         NaN               Too long                        Easy   \n",
       "5         NaN  Appropriate in length                        Easy   \n",
       "6         NaN  Appropriate in length                        Easy   \n",
       "7         NaN  Appropriate in length                        Easy   \n",
       "8         Yes  Appropriate in length                        Easy   \n",
       "9         NaN  Appropriate in length                        Easy   \n",
       "\n",
       "  ConvertedCompYearly  \n",
       "0                 NaN  \n",
       "1                 NaN  \n",
       "2             40205.0  \n",
       "3            215232.0  \n",
       "4                 NaN  \n",
       "5                 NaN  \n",
       "6                 NaN  \n",
       "7                 NaN  \n",
       "8             49056.0  \n",
       "9                 NaN  \n",
       "\n",
       "[10 rows x 79 columns]"
      ]
     },
     "execution_count": 95,
     "metadata": {},
     "output_type": "execute_result"
    }
   ],
   "source": [
    "df.head(10)"
   ]
  },
  {
   "cell_type": "code",
   "execution_count": 96,
   "metadata": {},
   "outputs": [
    {
     "data": {
      "text/html": [
       "<div>\n",
       "<style scoped>\n",
       "    .dataframe tbody tr th:only-of-type {\n",
       "        vertical-align: middle;\n",
       "    }\n",
       "\n",
       "    .dataframe tbody tr th {\n",
       "        vertical-align: top;\n",
       "    }\n",
       "\n",
       "    .dataframe thead th {\n",
       "        text-align: right;\n",
       "    }\n",
       "</style>\n",
       "<table border=\"1\" class=\"dataframe\">\n",
       "  <thead>\n",
       "    <tr style=\"text-align: right;\">\n",
       "      <th></th>\n",
       "      <th>qid</th>\n",
       "      <th>question</th>\n",
       "      <th>force_resp</th>\n",
       "      <th>type</th>\n",
       "      <th>selector</th>\n",
       "    </tr>\n",
       "    <tr>\n",
       "      <th>qname</th>\n",
       "      <th></th>\n",
       "      <th></th>\n",
       "      <th></th>\n",
       "      <th></th>\n",
       "      <th></th>\n",
       "    </tr>\n",
       "  </thead>\n",
       "  <tbody>\n",
       "    <tr>\n",
       "      <th>S0</th>\n",
       "      <td>QID16</td>\n",
       "      <td>&lt;div&gt;&lt;span style=\"font-size:19px;\"&gt;&lt;strong&gt;Hel...</td>\n",
       "      <td>False</td>\n",
       "      <td>DB</td>\n",
       "      <td>TB</td>\n",
       "    </tr>\n",
       "    <tr>\n",
       "      <th>MetaInfo</th>\n",
       "      <td>QID12</td>\n",
       "      <td>Browser Meta Info</td>\n",
       "      <td>False</td>\n",
       "      <td>Meta</td>\n",
       "      <td>Browser</td>\n",
       "    </tr>\n",
       "    <tr>\n",
       "      <th>S1</th>\n",
       "      <td>QID1</td>\n",
       "      <td>&lt;span style=\"font-size:22px; font-family: aria...</td>\n",
       "      <td>False</td>\n",
       "      <td>DB</td>\n",
       "      <td>TB</td>\n",
       "    </tr>\n",
       "    <tr>\n",
       "      <th>MainBranch</th>\n",
       "      <td>QID2</td>\n",
       "      <td>Which of the following options best describes ...</td>\n",
       "      <td>True</td>\n",
       "      <td>MC</td>\n",
       "      <td>SAVR</td>\n",
       "    </tr>\n",
       "    <tr>\n",
       "      <th>Employment</th>\n",
       "      <td>QID296</td>\n",
       "      <td>Which of the following best describes your cur...</td>\n",
       "      <td>False</td>\n",
       "      <td>MC</td>\n",
       "      <td>MAVR</td>\n",
       "    </tr>\n",
       "    <tr>\n",
       "      <th>...</th>\n",
       "      <td>...</td>\n",
       "      <td>...</td>\n",
       "      <td>...</td>\n",
       "      <td>...</td>\n",
       "      <td>...</td>\n",
       "    </tr>\n",
       "    <tr>\n",
       "      <th>Frequency_2</th>\n",
       "      <td>QID290</td>\n",
       "      <td>Interacting with people outside of your immedi...</td>\n",
       "      <td>NaN</td>\n",
       "      <td>MC</td>\n",
       "      <td>MAVR</td>\n",
       "    </tr>\n",
       "    <tr>\n",
       "      <th>Frequency_3</th>\n",
       "      <td>QID290</td>\n",
       "      <td>Encountering knowledge silos (where one indivi...</td>\n",
       "      <td>NaN</td>\n",
       "      <td>MC</td>\n",
       "      <td>MAVR</td>\n",
       "    </tr>\n",
       "    <tr>\n",
       "      <th>TrueFalse_1</th>\n",
       "      <td>QID294</td>\n",
       "      <td>Are you involved in supporting new hires durin...</td>\n",
       "      <td>NaN</td>\n",
       "      <td>MC</td>\n",
       "      <td>MAVR</td>\n",
       "    </tr>\n",
       "    <tr>\n",
       "      <th>TrueFalse_2</th>\n",
       "      <td>QID294</td>\n",
       "      <td>Do you use learning resources provided by your...</td>\n",
       "      <td>NaN</td>\n",
       "      <td>MC</td>\n",
       "      <td>MAVR</td>\n",
       "    </tr>\n",
       "    <tr>\n",
       "      <th>TrueFalse_3</th>\n",
       "      <td>QID294</td>\n",
       "      <td>Does your employer give you time to learn new ...</td>\n",
       "      <td>NaN</td>\n",
       "      <td>MC</td>\n",
       "      <td>MAVR</td>\n",
       "    </tr>\n",
       "  </tbody>\n",
       "</table>\n",
       "<p>79 rows × 5 columns</p>\n",
       "</div>"
      ],
      "text/plain": [
       "                qid                                           question  \\\n",
       "qname                                                                    \n",
       "S0            QID16  <div><span style=\"font-size:19px;\"><strong>Hel...   \n",
       "MetaInfo      QID12                                  Browser Meta Info   \n",
       "S1             QID1  <span style=\"font-size:22px; font-family: aria...   \n",
       "MainBranch     QID2  Which of the following options best describes ...   \n",
       "Employment   QID296  Which of the following best describes your cur...   \n",
       "...             ...                                                ...   \n",
       "Frequency_2  QID290  Interacting with people outside of your immedi...   \n",
       "Frequency_3  QID290  Encountering knowledge silos (where one indivi...   \n",
       "TrueFalse_1  QID294  Are you involved in supporting new hires durin...   \n",
       "TrueFalse_2  QID294  Do you use learning resources provided by your...   \n",
       "TrueFalse_3  QID294  Does your employer give you time to learn new ...   \n",
       "\n",
       "            force_resp  type selector  \n",
       "qname                                  \n",
       "S0               False    DB       TB  \n",
       "MetaInfo         False  Meta  Browser  \n",
       "S1               False    DB       TB  \n",
       "MainBranch        True    MC     SAVR  \n",
       "Employment       False    MC     MAVR  \n",
       "...                ...   ...      ...  \n",
       "Frequency_2        NaN    MC     MAVR  \n",
       "Frequency_3        NaN    MC     MAVR  \n",
       "TrueFalse_1        NaN    MC     MAVR  \n",
       "TrueFalse_2        NaN    MC     MAVR  \n",
       "TrueFalse_3        NaN    MC     MAVR  \n",
       "\n",
       "[79 rows x 5 columns]"
      ]
     },
     "execution_count": 96,
     "metadata": {},
     "output_type": "execute_result"
    }
   ],
   "source": [
    "df_schema"
   ]
  },
  {
   "cell_type": "code",
   "execution_count": 97,
   "metadata": {},
   "outputs": [
    {
     "name": "stdout",
     "output_type": "stream",
     "text": [
      "There are 73268 rows and 79 columns in our dataset\n"
     ]
    }
   ],
   "source": [
    "#Shape of the data\n",
    "print(\"There are {} rows and {} columns in our dataset\".format(df.shape[0],df.shape[1]))"
   ]
  },
  {
   "cell_type": "code",
   "execution_count": 98,
   "metadata": {},
   "outputs": [
    {
     "name": "stdout",
     "output_type": "stream",
     "text": [
      "<class 'pandas.core.frame.DataFrame'>\n",
      "RangeIndex: 73268 entries, 0 to 73267\n",
      "Data columns (total 79 columns):\n",
      " #   Column                          Non-Null Count  Dtype  \n",
      "---  ------                          --------------  -----  \n",
      " 0   ResponseId                      73268 non-null  int64  \n",
      " 1   MainBranch                      73268 non-null  object \n",
      " 2   Employment                      71709 non-null  object \n",
      " 3   RemoteWork                      58958 non-null  object \n",
      " 4   CodingActivities                58899 non-null  object \n",
      " 5   EdLevel                         71571 non-null  object \n",
      " 6   LearnCode                       71580 non-null  object \n",
      " 7   LearnCodeOnline                 50685 non-null  object \n",
      " 8   LearnCodeCoursesCert            29389 non-null  object \n",
      " 9   YearsCode                       71331 non-null  object \n",
      " 10  YearsCodePro                    51833 non-null  object \n",
      " 11  DevType                         61302 non-null  object \n",
      " 12  OrgSize                         51039 non-null  object \n",
      " 13  PurchaseInfluence               50969 non-null  object \n",
      " 14  BuyNewTool                      67963 non-null  object \n",
      " 15  Country                         71771 non-null  object \n",
      " 16  Currency                        51264 non-null  object \n",
      " 17  CompTotal                       38422 non-null  float64\n",
      " 18  CompFreq                        44425 non-null  object \n",
      " 19  LanguageHaveWorkedWith          70975 non-null  object \n",
      " 20  LanguageWantToWorkWith          67027 non-null  object \n",
      " 21  DatabaseHaveWorkedWith          60121 non-null  object \n",
      " 22  DatabaseWantToWorkWith          51014 non-null  object \n",
      " 23  PlatformHaveWorkedWith          49924 non-null  object \n",
      " 24  PlatformWantToWorkWith          40415 non-null  object \n",
      " 25  WebframeHaveWorkedWith          53544 non-null  object \n",
      " 26  WebframeWantToWorkWith          46122 non-null  object \n",
      " 27  MiscTechHaveWorkedWith          44992 non-null  object \n",
      " 28  MiscTechWantToWorkWith          36810 non-null  object \n",
      " 29  ToolsTechHaveWorkedWith         54171 non-null  object \n",
      " 30  ToolsTechWantToWorkWith         46566 non-null  object \n",
      " 31  NEWCollabToolsHaveWorkedWith    70347 non-null  object \n",
      " 32  NEWCollabToolsWantToWorkWith    64108 non-null  object \n",
      " 33  OpSysProfessional use           65503 non-null  object \n",
      " 34  OpSysPersonal use               70963 non-null  object \n",
      " 35  VersionControlSystem            71379 non-null  object \n",
      " 36  VCInteraction                   68156 non-null  object \n",
      " 37  VCHostingPersonal use           0 non-null      float64\n",
      " 38  VCHostingProfessional use       0 non-null      float64\n",
      " 39  OfficeStackAsyncHaveWorkedWith  46223 non-null  object \n",
      " 40  OfficeStackAsyncWantToWorkWith  32072 non-null  object \n",
      " 41  OfficeStackSyncHaveWorkedWith   62128 non-null  object \n",
      " 42  OfficeStackSyncWantToWorkWith   47688 non-null  object \n",
      " 43  Blockchain                      71071 non-null  object \n",
      " 44  NEWSOSites                      71365 non-null  object \n",
      " 45  SOVisitFreq                     70961 non-null  object \n",
      " 46  SOAccount                       71572 non-null  object \n",
      " 47  SOPartFreq                      58229 non-null  object \n",
      " 48  SOComm                          71408 non-null  object \n",
      " 49  Age                             70946 non-null  object \n",
      " 50  Gender                          70853 non-null  object \n",
      " 51  Trans                           70315 non-null  object \n",
      " 52  Sexuality                       66565 non-null  object \n",
      " 53  Ethnicity                       69474 non-null  object \n",
      " 54  Accessibility                   67244 non-null  object \n",
      " 55  MentalHealth                    66447 non-null  object \n",
      " 56  TBranch                         52670 non-null  object \n",
      " 57  ICorPM                          36283 non-null  object \n",
      " 58  WorkExp                         36769 non-null  float64\n",
      " 59  Knowledge_1                     35804 non-null  object \n",
      " 60  Knowledge_2                     34973 non-null  object \n",
      " 61  Knowledge_3                     35133 non-null  object \n",
      " 62  Knowledge_4                     35097 non-null  object \n",
      " 63  Knowledge_5                     35014 non-null  object \n",
      " 64  Knowledge_6                     34991 non-null  object \n",
      " 65  Knowledge_7                     34977 non-null  object \n",
      " 66  Frequency_1                     35371 non-null  object \n",
      " 67  Frequency_2                     35344 non-null  object \n",
      " 68  Frequency_3                     34515 non-null  object \n",
      " 69  TimeSearching                   36198 non-null  object \n",
      " 70  TimeAnswering                   36022 non-null  object \n",
      " 71  Onboarding                      35679 non-null  object \n",
      " 72  ProfessionalTech                34906 non-null  object \n",
      " 73  TrueFalse_1                     35819 non-null  object \n",
      " 74  TrueFalse_2                     35715 non-null  object \n",
      " 75  TrueFalse_3                     35749 non-null  object \n",
      " 76  SurveyLength                    70444 non-null  object \n",
      " 77  SurveyEase                      70508 non-null  object \n",
      " 78  ConvertedCompYearly             38071 non-null  float64\n",
      "dtypes: float64(5), int64(1), object(73)\n",
      "memory usage: 44.2+ MB\n"
     ]
    }
   ],
   "source": [
    "df.info()"
   ]
  },
  {
   "cell_type": "code",
   "execution_count": 99,
   "metadata": {},
   "outputs": [
    {
     "data": {
      "text/html": [
       "<div>\n",
       "<style scoped>\n",
       "    .dataframe tbody tr th:only-of-type {\n",
       "        vertical-align: middle;\n",
       "    }\n",
       "\n",
       "    .dataframe tbody tr th {\n",
       "        vertical-align: top;\n",
       "    }\n",
       "\n",
       "    .dataframe thead th {\n",
       "        text-align: right;\n",
       "    }\n",
       "</style>\n",
       "<table border=\"1\" class=\"dataframe\">\n",
       "  <thead>\n",
       "    <tr style=\"text-align: right;\">\n",
       "      <th></th>\n",
       "      <th>ResponseId</th>\n",
       "      <th>CompTotal</th>\n",
       "      <th>VCHostingPersonal use</th>\n",
       "      <th>VCHostingProfessional use</th>\n",
       "      <th>WorkExp</th>\n",
       "      <th>ConvertedCompYearly</th>\n",
       "    </tr>\n",
       "  </thead>\n",
       "  <tbody>\n",
       "    <tr>\n",
       "      <th>0</th>\n",
       "      <td>1</td>\n",
       "      <td>NaN</td>\n",
       "      <td>NaN</td>\n",
       "      <td>NaN</td>\n",
       "      <td>NaN</td>\n",
       "      <td>NaN</td>\n",
       "    </tr>\n",
       "    <tr>\n",
       "      <th>1</th>\n",
       "      <td>2</td>\n",
       "      <td>NaN</td>\n",
       "      <td>NaN</td>\n",
       "      <td>NaN</td>\n",
       "      <td>NaN</td>\n",
       "      <td>NaN</td>\n",
       "    </tr>\n",
       "    <tr>\n",
       "      <th>2</th>\n",
       "      <td>3</td>\n",
       "      <td>32000.0</td>\n",
       "      <td>NaN</td>\n",
       "      <td>NaN</td>\n",
       "      <td>NaN</td>\n",
       "      <td>40205.0</td>\n",
       "    </tr>\n",
       "    <tr>\n",
       "      <th>3</th>\n",
       "      <td>4</td>\n",
       "      <td>60000.0</td>\n",
       "      <td>NaN</td>\n",
       "      <td>NaN</td>\n",
       "      <td>NaN</td>\n",
       "      <td>215232.0</td>\n",
       "    </tr>\n",
       "    <tr>\n",
       "      <th>4</th>\n",
       "      <td>5</td>\n",
       "      <td>NaN</td>\n",
       "      <td>NaN</td>\n",
       "      <td>NaN</td>\n",
       "      <td>NaN</td>\n",
       "      <td>NaN</td>\n",
       "    </tr>\n",
       "    <tr>\n",
       "      <th>...</th>\n",
       "      <td>...</td>\n",
       "      <td>...</td>\n",
       "      <td>...</td>\n",
       "      <td>...</td>\n",
       "      <td>...</td>\n",
       "      <td>...</td>\n",
       "    </tr>\n",
       "    <tr>\n",
       "      <th>73263</th>\n",
       "      <td>73264</td>\n",
       "      <td>60000.0</td>\n",
       "      <td>NaN</td>\n",
       "      <td>NaN</td>\n",
       "      <td>5.0</td>\n",
       "      <td>NaN</td>\n",
       "    </tr>\n",
       "    <tr>\n",
       "      <th>73264</th>\n",
       "      <td>73265</td>\n",
       "      <td>107000.0</td>\n",
       "      <td>NaN</td>\n",
       "      <td>NaN</td>\n",
       "      <td>6.0</td>\n",
       "      <td>NaN</td>\n",
       "    </tr>\n",
       "    <tr>\n",
       "      <th>73265</th>\n",
       "      <td>73266</td>\n",
       "      <td>NaN</td>\n",
       "      <td>NaN</td>\n",
       "      <td>NaN</td>\n",
       "      <td>42.0</td>\n",
       "      <td>NaN</td>\n",
       "    </tr>\n",
       "    <tr>\n",
       "      <th>73266</th>\n",
       "      <td>73267</td>\n",
       "      <td>58500.0</td>\n",
       "      <td>NaN</td>\n",
       "      <td>NaN</td>\n",
       "      <td>NaN</td>\n",
       "      <td>NaN</td>\n",
       "    </tr>\n",
       "    <tr>\n",
       "      <th>73267</th>\n",
       "      <td>73268</td>\n",
       "      <td>NaN</td>\n",
       "      <td>NaN</td>\n",
       "      <td>NaN</td>\n",
       "      <td>NaN</td>\n",
       "      <td>NaN</td>\n",
       "    </tr>\n",
       "  </tbody>\n",
       "</table>\n",
       "<p>73268 rows × 6 columns</p>\n",
       "</div>"
      ],
      "text/plain": [
       "       ResponseId  CompTotal  VCHostingPersonal use  \\\n",
       "0               1        NaN                    NaN   \n",
       "1               2        NaN                    NaN   \n",
       "2               3    32000.0                    NaN   \n",
       "3               4    60000.0                    NaN   \n",
       "4               5        NaN                    NaN   \n",
       "...           ...        ...                    ...   \n",
       "73263       73264    60000.0                    NaN   \n",
       "73264       73265   107000.0                    NaN   \n",
       "73265       73266        NaN                    NaN   \n",
       "73266       73267    58500.0                    NaN   \n",
       "73267       73268        NaN                    NaN   \n",
       "\n",
       "       VCHostingProfessional use  WorkExp  ConvertedCompYearly  \n",
       "0                            NaN      NaN                  NaN  \n",
       "1                            NaN      NaN                  NaN  \n",
       "2                            NaN      NaN              40205.0  \n",
       "3                            NaN      NaN             215232.0  \n",
       "4                            NaN      NaN                  NaN  \n",
       "...                          ...      ...                  ...  \n",
       "73263                        NaN      5.0                  NaN  \n",
       "73264                        NaN      6.0                  NaN  \n",
       "73265                        NaN     42.0                  NaN  \n",
       "73266                        NaN      NaN                  NaN  \n",
       "73267                        NaN      NaN                  NaN  \n",
       "\n",
       "[73268 rows x 6 columns]"
      ]
     },
     "execution_count": 99,
     "metadata": {},
     "output_type": "execute_result"
    }
   ],
   "source": [
    "# Let's look at the Numerical columns\n",
    "numeric_cols = df.select_dtypes([\"int\",\"float\"])\n",
    "numeric_cols"
   ]
  },
  {
   "cell_type": "markdown",
   "metadata": {},
   "source": [
    "### Looks like only 6 columns are Numeric in our dataset."
   ]
  },
  {
   "cell_type": "code",
   "execution_count": 100,
   "metadata": {},
   "outputs": [
    {
     "data": {
      "text/html": [
       "<div>\n",
       "<style scoped>\n",
       "    .dataframe tbody tr th:only-of-type {\n",
       "        vertical-align: middle;\n",
       "    }\n",
       "\n",
       "    .dataframe tbody tr th {\n",
       "        vertical-align: top;\n",
       "    }\n",
       "\n",
       "    .dataframe thead th {\n",
       "        text-align: right;\n",
       "    }\n",
       "</style>\n",
       "<table border=\"1\" class=\"dataframe\">\n",
       "  <thead>\n",
       "    <tr style=\"text-align: right;\">\n",
       "      <th></th>\n",
       "      <th>MainBranch</th>\n",
       "      <th>Employment</th>\n",
       "      <th>RemoteWork</th>\n",
       "      <th>CodingActivities</th>\n",
       "      <th>EdLevel</th>\n",
       "      <th>LearnCode</th>\n",
       "      <th>LearnCodeOnline</th>\n",
       "      <th>LearnCodeCoursesCert</th>\n",
       "      <th>YearsCode</th>\n",
       "      <th>YearsCodePro</th>\n",
       "      <th>...</th>\n",
       "      <th>Frequency_3</th>\n",
       "      <th>TimeSearching</th>\n",
       "      <th>TimeAnswering</th>\n",
       "      <th>Onboarding</th>\n",
       "      <th>ProfessionalTech</th>\n",
       "      <th>TrueFalse_1</th>\n",
       "      <th>TrueFalse_2</th>\n",
       "      <th>TrueFalse_3</th>\n",
       "      <th>SurveyLength</th>\n",
       "      <th>SurveyEase</th>\n",
       "    </tr>\n",
       "  </thead>\n",
       "  <tbody>\n",
       "    <tr>\n",
       "      <th>0</th>\n",
       "      <td>None of these</td>\n",
       "      <td>NaN</td>\n",
       "      <td>NaN</td>\n",
       "      <td>NaN</td>\n",
       "      <td>NaN</td>\n",
       "      <td>NaN</td>\n",
       "      <td>NaN</td>\n",
       "      <td>NaN</td>\n",
       "      <td>NaN</td>\n",
       "      <td>NaN</td>\n",
       "      <td>...</td>\n",
       "      <td>NaN</td>\n",
       "      <td>NaN</td>\n",
       "      <td>NaN</td>\n",
       "      <td>NaN</td>\n",
       "      <td>NaN</td>\n",
       "      <td>NaN</td>\n",
       "      <td>NaN</td>\n",
       "      <td>NaN</td>\n",
       "      <td>NaN</td>\n",
       "      <td>NaN</td>\n",
       "    </tr>\n",
       "    <tr>\n",
       "      <th>1</th>\n",
       "      <td>I am a developer by profession</td>\n",
       "      <td>Employed, full-time</td>\n",
       "      <td>Fully remote</td>\n",
       "      <td>Hobby;Contribute to open-source projects</td>\n",
       "      <td>NaN</td>\n",
       "      <td>NaN</td>\n",
       "      <td>NaN</td>\n",
       "      <td>NaN</td>\n",
       "      <td>NaN</td>\n",
       "      <td>NaN</td>\n",
       "      <td>...</td>\n",
       "      <td>NaN</td>\n",
       "      <td>NaN</td>\n",
       "      <td>NaN</td>\n",
       "      <td>NaN</td>\n",
       "      <td>NaN</td>\n",
       "      <td>NaN</td>\n",
       "      <td>NaN</td>\n",
       "      <td>NaN</td>\n",
       "      <td>Too long</td>\n",
       "      <td>Difficult</td>\n",
       "    </tr>\n",
       "    <tr>\n",
       "      <th>2</th>\n",
       "      <td>I am not primarily a developer, but I write co...</td>\n",
       "      <td>Employed, full-time</td>\n",
       "      <td>Hybrid (some remote, some in-person)</td>\n",
       "      <td>Hobby</td>\n",
       "      <td>Master’s degree (M.A., M.S., M.Eng., MBA, etc.)</td>\n",
       "      <td>Books / Physical media;Friend or family member...</td>\n",
       "      <td>Technical documentation;Blogs;Programming Game...</td>\n",
       "      <td>NaN</td>\n",
       "      <td>14</td>\n",
       "      <td>5</td>\n",
       "      <td>...</td>\n",
       "      <td>NaN</td>\n",
       "      <td>NaN</td>\n",
       "      <td>NaN</td>\n",
       "      <td>NaN</td>\n",
       "      <td>NaN</td>\n",
       "      <td>NaN</td>\n",
       "      <td>NaN</td>\n",
       "      <td>NaN</td>\n",
       "      <td>Appropriate in length</td>\n",
       "      <td>Neither easy nor difficult</td>\n",
       "    </tr>\n",
       "    <tr>\n",
       "      <th>3</th>\n",
       "      <td>I am a developer by profession</td>\n",
       "      <td>Employed, full-time</td>\n",
       "      <td>Fully remote</td>\n",
       "      <td>I don’t code outside of work</td>\n",
       "      <td>Bachelor’s degree (B.A., B.S., B.Eng., etc.)</td>\n",
       "      <td>Books / Physical media;School (i.e., Universit...</td>\n",
       "      <td>NaN</td>\n",
       "      <td>NaN</td>\n",
       "      <td>20</td>\n",
       "      <td>17</td>\n",
       "      <td>...</td>\n",
       "      <td>NaN</td>\n",
       "      <td>NaN</td>\n",
       "      <td>NaN</td>\n",
       "      <td>NaN</td>\n",
       "      <td>NaN</td>\n",
       "      <td>NaN</td>\n",
       "      <td>NaN</td>\n",
       "      <td>NaN</td>\n",
       "      <td>Appropriate in length</td>\n",
       "      <td>Easy</td>\n",
       "    </tr>\n",
       "    <tr>\n",
       "      <th>4</th>\n",
       "      <td>I am a developer by profession</td>\n",
       "      <td>Employed, full-time</td>\n",
       "      <td>Hybrid (some remote, some in-person)</td>\n",
       "      <td>Hobby</td>\n",
       "      <td>Bachelor’s degree (B.A., B.S., B.Eng., etc.)</td>\n",
       "      <td>Other online resources (e.g., videos, blogs, f...</td>\n",
       "      <td>Technical documentation;Blogs;Stack Overflow;O...</td>\n",
       "      <td>NaN</td>\n",
       "      <td>8</td>\n",
       "      <td>3</td>\n",
       "      <td>...</td>\n",
       "      <td>NaN</td>\n",
       "      <td>NaN</td>\n",
       "      <td>NaN</td>\n",
       "      <td>NaN</td>\n",
       "      <td>NaN</td>\n",
       "      <td>NaN</td>\n",
       "      <td>NaN</td>\n",
       "      <td>NaN</td>\n",
       "      <td>Too long</td>\n",
       "      <td>Easy</td>\n",
       "    </tr>\n",
       "    <tr>\n",
       "      <th>...</th>\n",
       "      <td>...</td>\n",
       "      <td>...</td>\n",
       "      <td>...</td>\n",
       "      <td>...</td>\n",
       "      <td>...</td>\n",
       "      <td>...</td>\n",
       "      <td>...</td>\n",
       "      <td>...</td>\n",
       "      <td>...</td>\n",
       "      <td>...</td>\n",
       "      <td>...</td>\n",
       "      <td>...</td>\n",
       "      <td>...</td>\n",
       "      <td>...</td>\n",
       "      <td>...</td>\n",
       "      <td>...</td>\n",
       "      <td>...</td>\n",
       "      <td>...</td>\n",
       "      <td>...</td>\n",
       "      <td>...</td>\n",
       "      <td>...</td>\n",
       "    </tr>\n",
       "    <tr>\n",
       "      <th>73263</th>\n",
       "      <td>I am a developer by profession</td>\n",
       "      <td>Employed, full-time</td>\n",
       "      <td>Fully remote</td>\n",
       "      <td>Freelance/contract work</td>\n",
       "      <td>Bachelor’s degree (B.A., B.S., B.Eng., etc.)</td>\n",
       "      <td>Books / Physical media;Other online resources ...</td>\n",
       "      <td>Technical documentation;Blogs;Written Tutorial...</td>\n",
       "      <td>Udemy</td>\n",
       "      <td>8</td>\n",
       "      <td>5</td>\n",
       "      <td>...</td>\n",
       "      <td>Never</td>\n",
       "      <td>30-60 minutes a day</td>\n",
       "      <td>Less than 15 minutes a day</td>\n",
       "      <td>Just right</td>\n",
       "      <td>DevOps function;Microservices;Developer portal...</td>\n",
       "      <td>Yes</td>\n",
       "      <td>Yes</td>\n",
       "      <td>Yes</td>\n",
       "      <td>Too long</td>\n",
       "      <td>Easy</td>\n",
       "    </tr>\n",
       "    <tr>\n",
       "      <th>73264</th>\n",
       "      <td>I am a developer by profession</td>\n",
       "      <td>Employed, full-time</td>\n",
       "      <td>Full in-person</td>\n",
       "      <td>Hobby</td>\n",
       "      <td>Master’s degree (M.A., M.S., M.Eng., MBA, etc.)</td>\n",
       "      <td>Other online resources (e.g., videos, blogs, f...</td>\n",
       "      <td>Technical documentation;Blogs;Written Tutorial...</td>\n",
       "      <td>Coursera;Udemy;Udacity</td>\n",
       "      <td>6</td>\n",
       "      <td>5</td>\n",
       "      <td>...</td>\n",
       "      <td>10+ times a week</td>\n",
       "      <td>15-30 minutes a day</td>\n",
       "      <td>60-120 minutes a day</td>\n",
       "      <td>Very long</td>\n",
       "      <td>None of these</td>\n",
       "      <td>No</td>\n",
       "      <td>Yes</td>\n",
       "      <td>Yes</td>\n",
       "      <td>Too long</td>\n",
       "      <td>Easy</td>\n",
       "    </tr>\n",
       "    <tr>\n",
       "      <th>73265</th>\n",
       "      <td>I am not primarily a developer, but I write co...</td>\n",
       "      <td>Employed, full-time</td>\n",
       "      <td>Hybrid (some remote, some in-person)</td>\n",
       "      <td>Hobby;School or academic work</td>\n",
       "      <td>Bachelor’s degree (B.A., B.S., B.Eng., etc.)</td>\n",
       "      <td>Books / Physical media;Other online resources ...</td>\n",
       "      <td>Technical documentation;Programming Games;Stac...</td>\n",
       "      <td>Udemy;Codecademy;Pluralsight;edX</td>\n",
       "      <td>42</td>\n",
       "      <td>33</td>\n",
       "      <td>...</td>\n",
       "      <td>Never</td>\n",
       "      <td>30-60 minutes a day</td>\n",
       "      <td>60-120 minutes a day</td>\n",
       "      <td>Just right</td>\n",
       "      <td>None of these</td>\n",
       "      <td>No</td>\n",
       "      <td>No</td>\n",
       "      <td>No</td>\n",
       "      <td>Appropriate in length</td>\n",
       "      <td>Easy</td>\n",
       "    </tr>\n",
       "    <tr>\n",
       "      <th>73266</th>\n",
       "      <td>I am a developer by profession</td>\n",
       "      <td>Employed, full-time</td>\n",
       "      <td>Hybrid (some remote, some in-person)</td>\n",
       "      <td>Hobby</td>\n",
       "      <td>Bachelor’s degree (B.A., B.S., B.Eng., etc.)</td>\n",
       "      <td>Books / Physical media;On the job training</td>\n",
       "      <td>NaN</td>\n",
       "      <td>NaN</td>\n",
       "      <td>50</td>\n",
       "      <td>31</td>\n",
       "      <td>...</td>\n",
       "      <td>NaN</td>\n",
       "      <td>NaN</td>\n",
       "      <td>NaN</td>\n",
       "      <td>NaN</td>\n",
       "      <td>NaN</td>\n",
       "      <td>NaN</td>\n",
       "      <td>NaN</td>\n",
       "      <td>NaN</td>\n",
       "      <td>Appropriate in length</td>\n",
       "      <td>Easy</td>\n",
       "    </tr>\n",
       "    <tr>\n",
       "      <th>73267</th>\n",
       "      <td>I used to be a developer by profession, but no...</td>\n",
       "      <td>Independent contractor, freelancer, or self-em...</td>\n",
       "      <td>Fully remote</td>\n",
       "      <td>Hobby;Contribute to open-source projects;Boots...</td>\n",
       "      <td>Bachelor’s degree (B.A., B.S., B.Eng., etc.)</td>\n",
       "      <td>Books / Physical media;Friend or family member...</td>\n",
       "      <td>Technical documentation;Blogs;Programming Game...</td>\n",
       "      <td>Udemy;Pluralsight</td>\n",
       "      <td>16</td>\n",
       "      <td>5</td>\n",
       "      <td>...</td>\n",
       "      <td>NaN</td>\n",
       "      <td>NaN</td>\n",
       "      <td>NaN</td>\n",
       "      <td>NaN</td>\n",
       "      <td>NaN</td>\n",
       "      <td>NaN</td>\n",
       "      <td>NaN</td>\n",
       "      <td>NaN</td>\n",
       "      <td>Appropriate in length</td>\n",
       "      <td>Easy</td>\n",
       "    </tr>\n",
       "  </tbody>\n",
       "</table>\n",
       "<p>73268 rows × 73 columns</p>\n",
       "</div>"
      ],
      "text/plain": [
       "                                              MainBranch  \\\n",
       "0                                          None of these   \n",
       "1                         I am a developer by profession   \n",
       "2      I am not primarily a developer, but I write co...   \n",
       "3                         I am a developer by profession   \n",
       "4                         I am a developer by profession   \n",
       "...                                                  ...   \n",
       "73263                     I am a developer by profession   \n",
       "73264                     I am a developer by profession   \n",
       "73265  I am not primarily a developer, but I write co...   \n",
       "73266                     I am a developer by profession   \n",
       "73267  I used to be a developer by profession, but no...   \n",
       "\n",
       "                                              Employment  \\\n",
       "0                                                    NaN   \n",
       "1                                    Employed, full-time   \n",
       "2                                    Employed, full-time   \n",
       "3                                    Employed, full-time   \n",
       "4                                    Employed, full-time   \n",
       "...                                                  ...   \n",
       "73263                                Employed, full-time   \n",
       "73264                                Employed, full-time   \n",
       "73265                                Employed, full-time   \n",
       "73266                                Employed, full-time   \n",
       "73267  Independent contractor, freelancer, or self-em...   \n",
       "\n",
       "                                 RemoteWork  \\\n",
       "0                                       NaN   \n",
       "1                              Fully remote   \n",
       "2      Hybrid (some remote, some in-person)   \n",
       "3                              Fully remote   \n",
       "4      Hybrid (some remote, some in-person)   \n",
       "...                                     ...   \n",
       "73263                          Fully remote   \n",
       "73264                        Full in-person   \n",
       "73265  Hybrid (some remote, some in-person)   \n",
       "73266  Hybrid (some remote, some in-person)   \n",
       "73267                          Fully remote   \n",
       "\n",
       "                                        CodingActivities  \\\n",
       "0                                                    NaN   \n",
       "1               Hobby;Contribute to open-source projects   \n",
       "2                                                  Hobby   \n",
       "3                           I don’t code outside of work   \n",
       "4                                                  Hobby   \n",
       "...                                                  ...   \n",
       "73263                            Freelance/contract work   \n",
       "73264                                              Hobby   \n",
       "73265                      Hobby;School or academic work   \n",
       "73266                                              Hobby   \n",
       "73267  Hobby;Contribute to open-source projects;Boots...   \n",
       "\n",
       "                                               EdLevel  \\\n",
       "0                                                  NaN   \n",
       "1                                                  NaN   \n",
       "2      Master’s degree (M.A., M.S., M.Eng., MBA, etc.)   \n",
       "3         Bachelor’s degree (B.A., B.S., B.Eng., etc.)   \n",
       "4         Bachelor’s degree (B.A., B.S., B.Eng., etc.)   \n",
       "...                                                ...   \n",
       "73263     Bachelor’s degree (B.A., B.S., B.Eng., etc.)   \n",
       "73264  Master’s degree (M.A., M.S., M.Eng., MBA, etc.)   \n",
       "73265     Bachelor’s degree (B.A., B.S., B.Eng., etc.)   \n",
       "73266     Bachelor’s degree (B.A., B.S., B.Eng., etc.)   \n",
       "73267     Bachelor’s degree (B.A., B.S., B.Eng., etc.)   \n",
       "\n",
       "                                               LearnCode  \\\n",
       "0                                                    NaN   \n",
       "1                                                    NaN   \n",
       "2      Books / Physical media;Friend or family member...   \n",
       "3      Books / Physical media;School (i.e., Universit...   \n",
       "4      Other online resources (e.g., videos, blogs, f...   \n",
       "...                                                  ...   \n",
       "73263  Books / Physical media;Other online resources ...   \n",
       "73264  Other online resources (e.g., videos, blogs, f...   \n",
       "73265  Books / Physical media;Other online resources ...   \n",
       "73266         Books / Physical media;On the job training   \n",
       "73267  Books / Physical media;Friend or family member...   \n",
       "\n",
       "                                         LearnCodeOnline  \\\n",
       "0                                                    NaN   \n",
       "1                                                    NaN   \n",
       "2      Technical documentation;Blogs;Programming Game...   \n",
       "3                                                    NaN   \n",
       "4      Technical documentation;Blogs;Stack Overflow;O...   \n",
       "...                                                  ...   \n",
       "73263  Technical documentation;Blogs;Written Tutorial...   \n",
       "73264  Technical documentation;Blogs;Written Tutorial...   \n",
       "73265  Technical documentation;Programming Games;Stac...   \n",
       "73266                                                NaN   \n",
       "73267  Technical documentation;Blogs;Programming Game...   \n",
       "\n",
       "                   LearnCodeCoursesCert YearsCode YearsCodePro  ...  \\\n",
       "0                                   NaN       NaN          NaN  ...   \n",
       "1                                   NaN       NaN          NaN  ...   \n",
       "2                                   NaN        14            5  ...   \n",
       "3                                   NaN        20           17  ...   \n",
       "4                                   NaN         8            3  ...   \n",
       "...                                 ...       ...          ...  ...   \n",
       "73263                             Udemy         8            5  ...   \n",
       "73264            Coursera;Udemy;Udacity         6            5  ...   \n",
       "73265  Udemy;Codecademy;Pluralsight;edX        42           33  ...   \n",
       "73266                               NaN        50           31  ...   \n",
       "73267                 Udemy;Pluralsight        16            5  ...   \n",
       "\n",
       "            Frequency_3        TimeSearching               TimeAnswering  \\\n",
       "0                   NaN                  NaN                         NaN   \n",
       "1                   NaN                  NaN                         NaN   \n",
       "2                   NaN                  NaN                         NaN   \n",
       "3                   NaN                  NaN                         NaN   \n",
       "4                   NaN                  NaN                         NaN   \n",
       "...                 ...                  ...                         ...   \n",
       "73263             Never  30-60 minutes a day  Less than 15 minutes a day   \n",
       "73264  10+ times a week  15-30 minutes a day        60-120 minutes a day   \n",
       "73265             Never  30-60 minutes a day        60-120 minutes a day   \n",
       "73266               NaN                  NaN                         NaN   \n",
       "73267               NaN                  NaN                         NaN   \n",
       "\n",
       "       Onboarding                                   ProfessionalTech  \\\n",
       "0             NaN                                                NaN   \n",
       "1             NaN                                                NaN   \n",
       "2             NaN                                                NaN   \n",
       "3             NaN                                                NaN   \n",
       "4             NaN                                                NaN   \n",
       "...           ...                                                ...   \n",
       "73263  Just right  DevOps function;Microservices;Developer portal...   \n",
       "73264   Very long                                      None of these   \n",
       "73265  Just right                                      None of these   \n",
       "73266         NaN                                                NaN   \n",
       "73267         NaN                                                NaN   \n",
       "\n",
       "      TrueFalse_1 TrueFalse_2 TrueFalse_3           SurveyLength  \\\n",
       "0             NaN         NaN         NaN                    NaN   \n",
       "1             NaN         NaN         NaN               Too long   \n",
       "2             NaN         NaN         NaN  Appropriate in length   \n",
       "3             NaN         NaN         NaN  Appropriate in length   \n",
       "4             NaN         NaN         NaN               Too long   \n",
       "...           ...         ...         ...                    ...   \n",
       "73263         Yes         Yes         Yes               Too long   \n",
       "73264          No         Yes         Yes               Too long   \n",
       "73265          No          No          No  Appropriate in length   \n",
       "73266         NaN         NaN         NaN  Appropriate in length   \n",
       "73267         NaN         NaN         NaN  Appropriate in length   \n",
       "\n",
       "                       SurveyEase  \n",
       "0                             NaN  \n",
       "1                       Difficult  \n",
       "2      Neither easy nor difficult  \n",
       "3                            Easy  \n",
       "4                            Easy  \n",
       "...                           ...  \n",
       "73263                        Easy  \n",
       "73264                        Easy  \n",
       "73265                        Easy  \n",
       "73266                        Easy  \n",
       "73267                        Easy  \n",
       "\n",
       "[73268 rows x 73 columns]"
      ]
     },
     "execution_count": 100,
     "metadata": {},
     "output_type": "execute_result"
    }
   ],
   "source": [
    "# Let's look at the Categorical columns\n",
    "categorical_cols = df.select_dtypes(\"O\")\n",
    "categorical_cols"
   ]
  },
  {
   "cell_type": "markdown",
   "metadata": {},
   "source": [
    "## And we have 73 columns that are Categorical\n",
    "\n"
   ]
  },
  {
   "cell_type": "markdown",
   "metadata": {},
   "source": [
    "# Question: What are the most popular websites for someone to start learning to code online and get certified ?"
   ]
  },
  {
   "cell_type": "markdown",
   "metadata": {},
   "source": [
    "### Unpivoting 'LearnCodeCoursesCert' column"
   ]
  },
  {
   "cell_type": "code",
   "execution_count": 101,
   "metadata": {},
   "outputs": [
    {
     "data": {
      "text/html": [
       "<div>\n",
       "<style scoped>\n",
       "    .dataframe tbody tr th:only-of-type {\n",
       "        vertical-align: middle;\n",
       "    }\n",
       "\n",
       "    .dataframe tbody tr th {\n",
       "        vertical-align: top;\n",
       "    }\n",
       "\n",
       "    .dataframe thead th {\n",
       "        text-align: right;\n",
       "    }\n",
       "</style>\n",
       "<table border=\"1\" class=\"dataframe\">\n",
       "  <thead>\n",
       "    <tr style=\"text-align: right;\">\n",
       "      <th></th>\n",
       "      <th>ResponseId</th>\n",
       "      <th>LearnCodeCoursesCert</th>\n",
       "    </tr>\n",
       "  </thead>\n",
       "  <tbody>\n",
       "    <tr>\n",
       "      <th>0</th>\n",
       "      <td>1</td>\n",
       "      <td>NaN</td>\n",
       "    </tr>\n",
       "    <tr>\n",
       "      <th>1</th>\n",
       "      <td>2</td>\n",
       "      <td>NaN</td>\n",
       "    </tr>\n",
       "    <tr>\n",
       "      <th>2</th>\n",
       "      <td>3</td>\n",
       "      <td>NaN</td>\n",
       "    </tr>\n",
       "    <tr>\n",
       "      <th>3</th>\n",
       "      <td>4</td>\n",
       "      <td>NaN</td>\n",
       "    </tr>\n",
       "    <tr>\n",
       "      <th>4</th>\n",
       "      <td>5</td>\n",
       "      <td>NaN</td>\n",
       "    </tr>\n",
       "    <tr>\n",
       "      <th>...</th>\n",
       "      <td>...</td>\n",
       "      <td>...</td>\n",
       "    </tr>\n",
       "    <tr>\n",
       "      <th>73263</th>\n",
       "      <td>73264</td>\n",
       "      <td>Udemy</td>\n",
       "    </tr>\n",
       "    <tr>\n",
       "      <th>73264</th>\n",
       "      <td>73265</td>\n",
       "      <td>Coursera;Udemy;Udacity</td>\n",
       "    </tr>\n",
       "    <tr>\n",
       "      <th>73265</th>\n",
       "      <td>73266</td>\n",
       "      <td>Udemy;Codecademy;Pluralsight;edX</td>\n",
       "    </tr>\n",
       "    <tr>\n",
       "      <th>73266</th>\n",
       "      <td>73267</td>\n",
       "      <td>NaN</td>\n",
       "    </tr>\n",
       "    <tr>\n",
       "      <th>73267</th>\n",
       "      <td>73268</td>\n",
       "      <td>Udemy;Pluralsight</td>\n",
       "    </tr>\n",
       "  </tbody>\n",
       "</table>\n",
       "<p>73268 rows × 2 columns</p>\n",
       "</div>"
      ],
      "text/plain": [
       "       ResponseId              LearnCodeCoursesCert\n",
       "0               1                               NaN\n",
       "1               2                               NaN\n",
       "2               3                               NaN\n",
       "3               4                               NaN\n",
       "4               5                               NaN\n",
       "...           ...                               ...\n",
       "73263       73264                             Udemy\n",
       "73264       73265            Coursera;Udemy;Udacity\n",
       "73265       73266  Udemy;Codecademy;Pluralsight;edX\n",
       "73266       73267                               NaN\n",
       "73267       73268                 Udemy;Pluralsight\n",
       "\n",
       "[73268 rows x 2 columns]"
      ]
     },
     "execution_count": 101,
     "metadata": {},
     "output_type": "execute_result"
    }
   ],
   "source": [
    "df[['ResponseId','LearnCodeCoursesCert']]"
   ]
  },
  {
   "cell_type": "code",
   "execution_count": 158,
   "metadata": {},
   "outputs": [],
   "source": [
    "def split_count(df, column_name):\n",
    "    '''\n",
    "    :param df: The DataFrame for which you have the column that needs to be split\n",
    "    :param col: Input the column that has values separated by \";\"\n",
    "    :return: Will return a DataFrame consisting of two columns one for the split values and other the count of those values in the entire original DataFrame\n",
    "    '''\n",
    "\n",
    "    # The column for which you want to split the values\n",
    "    unsplit_column = df[[column_name]]\n",
    "\n",
    "    # Droppping all NaN values from the columns\n",
    "    unsplit_column = unsplit_column.dropna()\n",
    "\n",
    "    # Split the column by \";\"\n",
    "    unsplit_column = df[column_name].str.split(';', expand=True)\n",
    "\n",
    "    # Stack all the values in a single column\n",
    "    unsplit_column = unsplit_column.stack()\n",
    "\n",
    "    # Reset Index\n",
    "    unsplit_column = unsplit_column.reset_index()\n",
    "\n",
    "    # Rename all columns\n",
    "    unsplit_column.columns = [\"Respondent ID\", \"Order\", column_name]\n",
    "\n",
    "    # Count the occurrences\n",
    "    unsplit_column = unsplit_column[[column_name, \"Respondent ID\"]].groupby(by=[column_name])\\\n",
    "        .count().sort_values(\"Respondent ID\", ascending=False)\n",
    "\n",
    "    return unsplit_column\n"
   ]
  },
  {
   "cell_type": "code",
   "execution_count": 155,
   "metadata": {},
   "outputs": [],
   "source": [
    "def top_online_cert_plot(df,col,plot=True):\n",
    "    '''\n",
    "\n",
    "    :param df: Dataset consisting of the column.\n",
    "    :param col: Column that is of object type and its occurrences are calculated\n",
    "    :param plot: It is a boolean variable if it is set to True then there is a plot displayed else the Dataframe with value counts is returned.\n",
    "    :return:\n",
    "    '''\n",
    "    \n",
    "    #Applying the splot_count function to split and count the the occurrences of the values\n",
    "    data = split_count(df,col)\n",
    "    \n",
    "    #Resetting the index\n",
    "    data_df = data.reset_index()\n",
    "    \n",
    "    #Renaming the column\n",
    "    data_df = data_df.rename(columns={\"col\":\"Websites\"})\n",
    "    \n",
    "    # If plot is set to True you will get a plot of the top occurrences else will return a df of the same data\n",
    "    if plot:\n",
    "        plt.rcParams['figure.figsize'] = 12,8\n",
    "        sns.barplot(data_df,x=col,y=\"Respondent ID\",color=\"#42c7bd\", edgecolor='Black');\n",
    "        plt.xticks(fontsize=12)\n",
    "        plt.yticks(fontsize=12)\n",
    "        plt.title(\"Top Online Certification Sites\",fontsize=17)\n",
    "        plt.xlabel(\"Websites\",fontsize=15)\n",
    "        plt.ylabel(\"Respondents\",fontsize=15)\n",
    "        plt.grid(False);\n",
    "    else:\n",
    "        return  data_df"
   ]
  },
  {
   "cell_type": "code",
   "execution_count": 156,
   "metadata": {},
   "outputs": [
    {
     "data": {
      "image/png": "[encoded data removed]",
      "text/plain": [
       "<Figure size 864x576 with 1 Axes>"
      ]
     },
     "metadata": {
      "needs_background": "light"
     },
     "output_type": "display_data"
    }
   ],
   "source": [
    "top_online_cert_plot(df,col=\"LearnCodeCoursesCert\",plot=True)"
   ]
  },
  {
   "cell_type": "markdown",
   "metadata": {},
   "source": [
    "## With votes close to 20,000 'Udemy' stands at the first position followed by 'Coursera'"
   ]
  },
  {
   "cell_type": "markdown",
   "metadata": {},
   "source": [
    "# Question:  Countries where the respondents are under the age of 18 ?"
   ]
  },
  {
   "cell_type": "code",
   "execution_count": 167,
   "metadata": {},
   "outputs": [],
   "source": [
    "def age_plot(df,col):\n",
    "    '''\n",
    "\n",
    "    :param df:  dataset consisting of the column.\n",
    "    :param col:  the column fo which you want to create the plot for max counts of those values\n",
    "    :return:\n",
    "    '''\n",
    "    #Extracting only Age and Country columns\n",
    "    age_df = df[[\"Age\",\"Country\"]]\n",
    "    \n",
    "    #Selecting the dataframe based on one particular value\n",
    "    age_df = df.query(\"{} == 'Under 18 years old' \".format(col))\n",
    "    \n",
    "    #Counting the occurrences of the Country\n",
    "    plot_age = age_df.groupby(\"Country\").count()\n",
    "    \n",
    "    #Plotting the top 10 countries where x-axis is the mean and y-axis are the countries\n",
    "    plot_age = plot_age[[\"Age\"]].sort_values(by=\"Age\",ascending=True).tail(10)\n",
    "    (plot_age/plot_age.sum()).plot(kind='barh',legend=None)\n",
    "    \n",
    "    plt.xticks(fontsize=15)\n",
    "    plt.yticks(fontsize=15)\n",
    "    plt.title(\"Coders Proportion Under the Age of 18\",size=17)\n",
    "    plt.ylabel(None)\n",
    "    plt.grid(False)"
   ]
  },
  {
   "cell_type": "code",
   "execution_count": 168,
   "metadata": {},
   "outputs": [
    {
     "data": {
      "image/png": "[encoded data removed]",
      "text/plain": [
       "<Figure size 864x720 with 1 Axes>"
      ]
     },
     "metadata": {
      "needs_background": "light"
     },
     "output_type": "display_data"
    }
   ],
   "source": [
    "plt.rcParams[\"figure.figsize\"] = 12,10\n",
    "age_plot(df,\"Age\")"
   ]
  },
  {
   "cell_type": "markdown",
   "metadata": {},
   "source": [
    "## Less than 5% of Responders are from countries like France and Czech Republic"
   ]
  },
  {
   "cell_type": "markdown",
   "metadata": {},
   "source": [
    "# Question: What were the most in-demand developers as of 2022 according to our survey?"
   ]
  },
  {
   "cell_type": "code",
   "execution_count": 159,
   "metadata": {},
   "outputs": [],
   "source": [
    "dev_type_count = split_count(df,\"DevType\")\n",
    "dev_type_count = dev_type_count.reset_index()"
   ]
  },
  {
   "cell_type": "code",
   "execution_count": 160,
   "metadata": {
    "pycharm": {
     "is_executing": true
    }
   },
   "outputs": [
    {
     "data": {
      "application/vnd.plotly.v1+json": {
       "config": {
        "plotlyServerURL": "https://plotly.com"
       },
       "data": [
        {
         "alignmentgroup": "True",
         "bingroup": "x",
         "histfunc": "sum",
         "hovertemplate": "DevType=%{x}<br>sum of Respondent ID=%{y}<extra></extra>",
         "legendgroup": "",
         "marker": {
          "color": "darkcyan",
          "pattern": {
           "shape": ""
          }
         },
         "name": "",
         "offsetgroup": "",
         "orientation": "v",
         "showlegend": false,
         "type": "histogram",
         "x": [
          "Developer, full-stack",
          "Developer, back-end",
          "Developer, front-end",
          "Developer, desktop or enterprise applications",
          "Developer, mobile",
          "DevOps specialist",
          "Student",
          "Cloud infrastructure engineer",
          "Database administrator",
          "System administrator"
         ],
         "xaxis": "x",
         "y": [
          28701,
          26595,
          15915,
          9546,
          7634,
          6170,
          5595,
          5283,
          4934,
          4908
         ],
         "yaxis": "y"
        }
       ],
       "layout": {
        "barmode": "group",
        "legend": {
         "tracegroupgap": 0
        },
        "margin": {
         "t": 60
        },
        "template": {
         "data": {
          "bar": [
           {
            "error_x": {
             "color": "#2a3f5f"
            },
            "error_y": {
             "color": "#2a3f5f"
            },
            "marker": {
             "line": {
              "color": "#E5ECF6",
              "width": 0.5
             },
             "pattern": {
              "fillmode": "overlay",
              "size": 10,
              "solidity": 0.2
             }
            },
            "type": "bar"
           }
          ],
          "barpolar": [
           {
            "marker": {
             "line": {
              "color": "#E5ECF6",
              "width": 0.5
             },
             "pattern": {
              "fillmode": "overlay",
              "size": 10,
              "solidity": 0.2
             }
            },
            "type": "barpolar"
           }
          ],
          "carpet": [
           {
            "aaxis": {
             "endlinecolor": "#2a3f5f",
             "gridcolor": "white",
             "linecolor": "white",
             "minorgridcolor": "white",
             "startlinecolor": "#2a3f5f"
            },
            "baxis": {
             "endlinecolor": "#2a3f5f",
             "gridcolor": "white",
             "linecolor": "white",
             "minorgridcolor": "white",
             "startlinecolor": "#2a3f5f"
            },
            "type": "carpet"
           }
          ],
          "choropleth": [
           {
            "colorbar": {
             "outlinewidth": 0,
             "ticks": ""
            },
            "type": "choropleth"
           }
          ],
          "contour": [
           {
            "colorbar": {
             "outlinewidth": 0,
             "ticks": ""
            },
            "colorscale": [
             [
              0,
              "#0d0887"
             ],
             [
              0.1111111111111111,
              "#46039f"
             ],
             [
              0.2222222222222222,
              "#7201a8"
             ],
             [
              0.3333333333333333,
              "#9c179e"
             ],
             [
              0.4444444444444444,
              "#bd3786"
             ],
             [
              0.5555555555555556,
              "#d8576b"
             ],
             [
              0.6666666666666666,
              "#ed7953"
             ],
             [
              0.7777777777777778,
              "#fb9f3a"
             ],
             [
              0.8888888888888888,
              "#fdca26"
             ],
             [
              1,
              "#f0f921"
             ]
            ],
            "type": "contour"
           }
          ],
          "contourcarpet": [
           {
            "colorbar": {
             "outlinewidth": 0,
             "ticks": ""
            },
            "type": "contourcarpet"
           }
          ],
          "heatmap": [
           {
            "colorbar": {
             "outlinewidth": 0,
             "ticks": ""
            },
            "colorscale": [
             [
              0,
              "#0d0887"
             ],
             [
              0.1111111111111111,
              "#46039f"
             ],
             [
              0.2222222222222222,
              "#7201a8"
             ],
             [
              0.3333333333333333,
              "#9c179e"
             ],
             [
              0.4444444444444444,
              "#bd3786"
             ],
             [
              0.5555555555555556,
              "#d8576b"
             ],
             [
              0.6666666666666666,
              "#ed7953"
             ],
             [
              0.7777777777777778,
              "#fb9f3a"
             ],
             [
              0.8888888888888888,
              "#fdca26"
             ],
             [
              1,
              "#f0f921"
             ]
            ],
            "type": "heatmap"
           }
          ],
          "heatmapgl": [
           {
            "colorbar": {
             "outlinewidth": 0,
             "ticks": ""
            },
            "colorscale": [
             [
              0,
              "#0d0887"
             ],
             [
              0.1111111111111111,
              "#46039f"
             ],
             [
              0.2222222222222222,
              "#7201a8"
             ],
             [
              0.3333333333333333,
              "#9c179e"
             ],
             [
              0.4444444444444444,
              "#bd3786"
             ],
             [
              0.5555555555555556,
              "#d8576b"
             ],
             [
              0.6666666666666666,
              "#ed7953"
             ],
             [
              0.7777777777777778,
              "#fb9f3a"
             ],
             [
              0.8888888888888888,
              "#fdca26"
             ],
             [
              1,
              "#f0f921"
             ]
            ],
            "type": "heatmapgl"
           }
          ],
          "histogram": [
           {
            "marker": {
             "pattern": {
              "fillmode": "overlay",
              "size": 10,
              "solidity": 0.2
             }
            },
            "type": "histogram"
           }
          ],
          "histogram2d": [
           {
            "colorbar": {
             "outlinewidth": 0,
             "ticks": ""
            },
            "colorscale": [
             [
              0,
              "#0d0887"
             ],
             [
              0.1111111111111111,
              "#46039f"
             ],
             [
              0.2222222222222222,
              "#7201a8"
             ],
             [
              0.3333333333333333,
              "#9c179e"
             ],
             [
              0.4444444444444444,
              "#bd3786"
             ],
             [
              0.5555555555555556,
              "#d8576b"
             ],
             [
              0.6666666666666666,
              "#ed7953"
             ],
             [
              0.7777777777777778,
              "#fb9f3a"
             ],
             [
              0.8888888888888888,
              "#fdca26"
             ],
             [
              1,
              "#f0f921"
             ]
            ],
            "type": "histogram2d"
           }
          ],
          "histogram2dcontour": [
           {
            "colorbar": {
             "outlinewidth": 0,
             "ticks": ""
            },
            "colorscale": [
             [
              0,
              "#0d0887"
             ],
             [
              0.1111111111111111,
              "#46039f"
             ],
             [
              0.2222222222222222,
              "#7201a8"
             ],
             [
              0.3333333333333333,
              "#9c179e"
             ],
             [
              0.4444444444444444,
              "#bd3786"
             ],
             [
              0.5555555555555556,
              "#d8576b"
             ],
             [
              0.6666666666666666,
              "#ed7953"
             ],
             [
              0.7777777777777778,
              "#fb9f3a"
             ],
             [
              0.8888888888888888,
              "#fdca26"
             ],
             [
              1,
              "#f0f921"
             ]
            ],
            "type": "histogram2dcontour"
           }
          ],
          "mesh3d": [
           {
            "colorbar": {
             "outlinewidth": 0,
             "ticks": ""
            },
            "type": "mesh3d"
           }
          ],
          "parcoords": [
           {
            "line": {
             "colorbar": {
              "outlinewidth": 0,
              "ticks": ""
             }
            },
            "type": "parcoords"
           }
          ],
          "pie": [
           {
            "automargin": true,
            "type": "pie"
           }
          ],
          "scatter": [
           {
            "fillpattern": {
             "fillmode": "overlay",
             "size": 10,
             "solidity": 0.2
            },
            "type": "scatter"
           }
          ],
          "scatter3d": [
           {
            "line": {
             "colorbar": {
              "outlinewidth": 0,
              "ticks": ""
             }
            },
            "marker": {
             "colorbar": {
              "outlinewidth": 0,
              "ticks": ""
             }
            },
            "type": "scatter3d"
           }
          ],
          "scattercarpet": [
           {
            "marker": {
             "colorbar": {
              "outlinewidth": 0,
              "ticks": ""
             }
            },
            "type": "scattercarpet"
           }
          ],
          "scattergeo": [
           {
            "marker": {
             "colorbar": {
              "outlinewidth": 0,
              "ticks": ""
             }
            },
            "type": "scattergeo"
           }
          ],
          "scattergl": [
           {
            "marker": {
             "colorbar": {
              "outlinewidth": 0,
              "ticks": ""
             }
            },
            "type": "scattergl"
           }
          ],
          "scattermapbox": [
           {
            "marker": {
             "colorbar": {
              "outlinewidth": 0,
              "ticks": ""
             }
            },
            "type": "scattermapbox"
           }
          ],
          "scatterpolar": [
           {
            "marker": {
             "colorbar": {
              "outlinewidth": 0,
              "ticks": ""
             }
            },
            "type": "scatterpolar"
           }
          ],
          "scatterpolargl": [
           {
            "marker": {
             "colorbar": {
              "outlinewidth": 0,
              "ticks": ""
             }
            },
            "type": "scatterpolargl"
           }
          ],
          "scatterternary": [
           {
            "marker": {
             "colorbar": {
              "outlinewidth": 0,
              "ticks": ""
             }
            },
            "type": "scatterternary"
           }
          ],
          "surface": [
           {
            "colorbar": {
             "outlinewidth": 0,
             "ticks": ""
            },
            "colorscale": [
             [
              0,
              "#0d0887"
             ],
             [
              0.1111111111111111,
              "#46039f"
             ],
             [
              0.2222222222222222,
              "#7201a8"
             ],
             [
              0.3333333333333333,
              "#9c179e"
             ],
             [
              0.4444444444444444,
              "#bd3786"
             ],
             [
              0.5555555555555556,
              "#d8576b"
             ],
             [
              0.6666666666666666,
              "#ed7953"
             ],
             [
              0.7777777777777778,
              "#fb9f3a"
             ],
             [
              0.8888888888888888,
              "#fdca26"
             ],
             [
              1,
              "#f0f921"
             ]
            ],
            "type": "surface"
           }
          ],
          "table": [
           {
            "cells": {
             "fill": {
              "color": "#EBF0F8"
             },
             "line": {
              "color": "white"
             }
            },
            "header": {
             "fill": {
              "color": "#C8D4E3"
             },
             "line": {
              "color": "white"
             }
            },
            "type": "table"
           }
          ]
         },
         "layout": {
          "annotationdefaults": {
           "arrowcolor": "#2a3f5f",
           "arrowhead": 0,
           "arrowwidth": 1
          },
          "autotypenumbers": "strict",
          "coloraxis": {
           "colorbar": {
            "outlinewidth": 0,
            "ticks": ""
           }
          },
          "colorscale": {
           "diverging": [
            [
             0,
             "#8e0152"
            ],
            [
             0.1,
             "#c51b7d"
            ],
            [
             0.2,
             "#de77ae"
            ],
            [
             0.3,
             "#f1b6da"
            ],
            [
             0.4,
             "#fde0ef"
            ],
            [
             0.5,
             "#f7f7f7"
            ],
            [
             0.6,
             "#e6f5d0"
            ],
            [
             0.7,
             "#b8e186"
            ],
            [
             0.8,
             "#7fbc41"
            ],
            [
             0.9,
             "#4d9221"
            ],
            [
             1,
             "#276419"
            ]
           ],
           "sequential": [
            [
             0,
             "#0d0887"
            ],
            [
             0.1111111111111111,
             "#46039f"
            ],
            [
             0.2222222222222222,
             "#7201a8"
            ],
            [
             0.3333333333333333,
             "#9c179e"
            ],
            [
             0.4444444444444444,
             "#bd3786"
            ],
            [
             0.5555555555555556,
             "#d8576b"
            ],
            [
             0.6666666666666666,
             "#ed7953"
            ],
            [
             0.7777777777777778,
             "#fb9f3a"
            ],
            [
             0.8888888888888888,
             "#fdca26"
            ],
            [
             1,
             "#f0f921"
            ]
           ],
           "sequentialminus": [
            [
             0,
             "#0d0887"
            ],
            [
             0.1111111111111111,
             "#46039f"
            ],
            [
             0.2222222222222222,
             "#7201a8"
            ],
            [
             0.3333333333333333,
             "#9c179e"
            ],
            [
             0.4444444444444444,
             "#bd3786"
            ],
            [
             0.5555555555555556,
             "#d8576b"
            ],
            [
             0.6666666666666666,
             "#ed7953"
            ],
            [
             0.7777777777777778,
             "#fb9f3a"
            ],
            [
             0.8888888888888888,
             "#fdca26"
            ],
            [
             1,
             "#f0f921"
            ]
           ]
          },
          "colorway": [
           "#636efa",
           "#EF553B",
           "#00cc96",
           "#ab63fa",
           "#FFA15A",
           "#19d3f3",
           "#FF6692",
           "#B6E880",
           "#FF97FF",
           "#FECB52"
          ],
          "font": {
           "color": "#2a3f5f"
          },
          "geo": {
           "bgcolor": "white",
           "lakecolor": "white",
           "landcolor": "#E5ECF6",
           "showlakes": true,
           "showland": true,
           "subunitcolor": "white"
          },
          "hoverlabel": {
           "align": "left"
          },
          "hovermode": "closest",
          "mapbox": {
           "style": "light"
          },
          "paper_bgcolor": "white",
          "plot_bgcolor": "#E5ECF6",
          "polar": {
           "angularaxis": {
            "gridcolor": "white",
            "linecolor": "white",
            "ticks": ""
           },
           "bgcolor": "#E5ECF6",
           "radialaxis": {
            "gridcolor": "white",
            "linecolor": "white",
            "ticks": ""
           }
          },
          "scene": {
           "xaxis": {
            "backgroundcolor": "#E5ECF6",
            "gridcolor": "white",
            "gridwidth": 2,
            "linecolor": "white",
            "showbackground": true,
            "ticks": "",
            "zerolinecolor": "white"
           },
           "yaxis": {
            "backgroundcolor": "#E5ECF6",
            "gridcolor": "white",
            "gridwidth": 2,
            "linecolor": "white",
            "showbackground": true,
            "ticks": "",
            "zerolinecolor": "white"
           },
           "zaxis": {
            "backgroundcolor": "#E5ECF6",
            "gridcolor": "white",
            "gridwidth": 2,
            "linecolor": "white",
            "showbackground": true,
            "ticks": "",
            "zerolinecolor": "white"
           }
          },
          "shapedefaults": {
           "line": {
            "color": "#2a3f5f"
           }
          },
          "ternary": {
           "aaxis": {
            "gridcolor": "white",
            "linecolor": "white",
            "ticks": ""
           },
           "baxis": {
            "gridcolor": "white",
            "linecolor": "white",
            "ticks": ""
           },
           "bgcolor": "#E5ECF6",
           "caxis": {
            "gridcolor": "white",
            "linecolor": "white",
            "ticks": ""
           }
          },
          "title": {
           "x": 0.05
          },
          "xaxis": {
           "automargin": true,
           "gridcolor": "white",
           "linecolor": "white",
           "ticks": "",
           "title": {
            "standoff": 15
           },
           "zerolinecolor": "white",
           "zerolinewidth": 2
          },
          "yaxis": {
           "automargin": true,
           "gridcolor": "white",
           "linecolor": "white",
           "ticks": "",
           "title": {
            "standoff": 15
           },
           "zerolinecolor": "white",
           "zerolinewidth": 2
          }
         }
        },
        "title": {
         "text": "Top 10 Developers Types",
         "x": 0.5
        },
        "xaxis": {
         "anchor": "y",
         "domain": [
          0,
          1
         ],
         "title": {
          "text": "Types"
         }
        },
        "yaxis": {
         "anchor": "x",
         "domain": [
          0,
          1
         ],
         "title": {
          "text": "Total Votes"
         }
        }
       }
      }
     },
     "metadata": {},
     "output_type": "display_data"
    },
    {
     "data": {
      "text/plain": [
       "'https://plotly.com/~samson.musumuri/3/'"
      ]
     },
     "execution_count": 160,
     "metadata": {},
     "output_type": "execute_result"
    }
   ],
   "source": [
    "fig = px.histogram(\n",
    "dev_type_count.head(10),\n",
    "x=\"DevType\",\n",
    "y=\"Respondent ID\",\n",
    "barmode=\"group\",\n",
    "orientation=\"v\",color_discrete_sequence = ['darkcyan']\n",
    ").update_layout(\n",
    "title={\"text\": \"Top 10 Developers Types\", \"x\": 0.5}, yaxis_title=\"Total Votes\",xaxis_title=\"Types\")\n",
    "fig.show()\n",
    "#gitly.show( fig )\n",
    "py.plot(fig, filename=\"top_10_dev_types_stackoverflow_2022_survey\", auto_open = True)"
   ]
  },
  {
   "cell_type": "markdown",
   "metadata": {},
   "source": [
    "# Question: What does Organization Size looks like in 2022?"
   ]
  },
  {
   "cell_type": "code",
   "execution_count": 23,
   "metadata": {},
   "outputs": [],
   "source": [
    "data_df = df[\"OrgSize\"].dropna()\n",
    "data_df = pd.DataFrame(df[\"OrgSize\"].value_counts().sort_values(ascending=True))\n",
    "data_df.reset_index(inplace=True)\n",
    "data_df.rename(columns={\"index\":\"Size\",\"OrgSize\":\"Count\"},inplace=True)"
   ]
  },
  {
   "cell_type": "code",
   "execution_count": 24,
   "metadata": {},
   "outputs": [
    {
     "data": {
      "image/png": "[encoded data removed]",
      "text/plain": [
       "<IPython.core.display.Image object>"
      ]
     },
     "execution_count": 24,
     "metadata": {},
     "output_type": "execute_result"
    }
   ],
   "source": [
    "fig = px.histogram(\n",
    "    data_df,\n",
    "    x=\"Count\",\n",
    "    y=\"Size\",\n",
    "    barmode=\"group\",\n",
    "    orientation=\"h\",color_discrete_sequence = ['orange']\n",
    ").update_layout(\n",
    "    title={\"text\": \"Organization Size\", \"x\": 0.6}, yaxis_title=\"Org Size\",xaxis_title=\"Count\")\n",
    "#fig.show()\n",
    "gitly.show(fig)"
   ]
  },
  {
   "cell_type": "markdown",
   "metadata": {},
   "source": [
    "## Interesting to see that there are more Organizations with  < 100 employees"
   ]
  },
  {
   "cell_type": "markdown",
   "metadata": {},
   "source": [
    "# Question: Where are these organizations located?"
   ]
  },
  {
   "cell_type": "code",
   "execution_count": 187,
   "metadata": {},
   "outputs": [],
   "source": [
    "def org_size_country_count(df,column_name,size_value,plot=True):\n",
    "    '''\n",
    "    :param df: Dataset where the column exists\n",
    "    :param col: Column for which you want the count for\n",
    "    :param size_value: Takes in the string for which you want the value counts for\n",
    "    :return:\n",
    "    '''\n",
    "    #Dataframe that consists of the OrgSize column, Country and its value count\n",
    "    org_data = df[df[column_name] == size_value][\"Country\"].value_counts().sort_values(ascending=False)\n",
    "    \n",
    "    #Resetting the index\n",
    "    org_data = org_data.reset_index()\n",
    "    \n",
    "    #Renaming the columns\n",
    "    org_data = org_data.rename(columns={\"index\":\"Country\",\"Country\":\"Count\"})\n",
    "\n",
    "\n",
    "    # If plot is set to True you will get a plot of the top occurrences of Country else will return a df of the same data\n",
    "    if plot:\n",
    "        # Plot For the Organization Size less than 100\n",
    "        fig = px.pie(org_data.head(10), values='Count', names='Country', title='Top 10 Countries Where Employees are less than 100')\n",
    "        fig.show()\n",
    "        gitly.show(fig)\n",
    "    else:\n",
    "        return org_data\n",
    "    "
   ]
  },
  {
   "cell_type": "code",
   "execution_count": 188,
   "metadata": {},
   "outputs": [
    {
     "data": {
      "application/vnd.plotly.v1+json": {
       "config": {
        "plotlyServerURL": "https://plotly.com"
       },
       "data": [
        {
         "domain": {
          "x": [
           0,
           1
          ],
          "y": [
           0,
           1
          ]
         },
         "hovertemplate": "Country=%{label}<br>Count=%{value}<extra></extra>",
         "labels": [
          "United States of America",
          "Germany",
          "India",
          "United Kingdom of Great Britain and Northern Ireland",
          "Canada",
          "France",
          "Brazil",
          "Poland",
          "Netherlands",
          "Italy"
         ],
         "legendgroup": "",
         "name": "",
         "showlegend": true,
         "type": "pie",
         "values": [
          1655,
          834,
          784,
          628,
          353,
          352,
          289,
          275,
          275,
          252
         ]
        }
       ],
       "layout": {
        "legend": {
         "tracegroupgap": 0
        },
        "template": {
         "data": {
          "bar": [
           {
            "error_x": {
             "color": "#2a3f5f"
            },
            "error_y": {
             "color": "#2a3f5f"
            },
            "marker": {
             "line": {
              "color": "#E5ECF6",
              "width": 0.5
             },
             "pattern": {
              "fillmode": "overlay",
              "size": 10,
              "solidity": 0.2
             }
            },
            "type": "bar"
           }
          ],
          "barpolar": [
           {
            "marker": {
             "line": {
              "color": "#E5ECF6",
              "width": 0.5
             },
             "pattern": {
              "fillmode": "overlay",
              "size": 10,
              "solidity": 0.2
             }
            },
            "type": "barpolar"
           }
          ],
          "carpet": [
           {
            "aaxis": {
             "endlinecolor": "#2a3f5f",
             "gridcolor": "white",
             "linecolor": "white",
             "minorgridcolor": "white",
             "startlinecolor": "#2a3f5f"
            },
            "baxis": {
             "endlinecolor": "#2a3f5f",
             "gridcolor": "white",
             "linecolor": "white",
             "minorgridcolor": "white",
             "startlinecolor": "#2a3f5f"
            },
            "type": "carpet"
           }
          ],
          "choropleth": [
           {
            "colorbar": {
             "outlinewidth": 0,
             "ticks": ""
            },
            "type": "choropleth"
           }
          ],
          "contour": [
           {
            "colorbar": {
             "outlinewidth": 0,
             "ticks": ""
            },
            "colorscale": [
             [
              0,
              "#0d0887"
             ],
             [
              0.1111111111111111,
              "#46039f"
             ],
             [
              0.2222222222222222,
              "#7201a8"
             ],
             [
              0.3333333333333333,
              "#9c179e"
             ],
             [
              0.4444444444444444,
              "#bd3786"
             ],
             [
              0.5555555555555556,
              "#d8576b"
             ],
             [
              0.6666666666666666,
              "#ed7953"
             ],
             [
              0.7777777777777778,
              "#fb9f3a"
             ],
             [
              0.8888888888888888,
              "#fdca26"
             ],
             [
              1,
              "#f0f921"
             ]
            ],
            "type": "contour"
           }
          ],
          "contourcarpet": [
           {
            "colorbar": {
             "outlinewidth": 0,
             "ticks": ""
            },
            "type": "contourcarpet"
           }
          ],
          "heatmap": [
           {
            "colorbar": {
             "outlinewidth": 0,
             "ticks": ""
            },
            "colorscale": [
             [
              0,
              "#0d0887"
             ],
             [
              0.1111111111111111,
              "#46039f"
             ],
             [
              0.2222222222222222,
              "#7201a8"
             ],
             [
              0.3333333333333333,
              "#9c179e"
             ],
             [
              0.4444444444444444,
              "#bd3786"
             ],
             [
              0.5555555555555556,
              "#d8576b"
             ],
             [
              0.6666666666666666,
              "#ed7953"
             ],
             [
              0.7777777777777778,
              "#fb9f3a"
             ],
             [
              0.8888888888888888,
              "#fdca26"
             ],
             [
              1,
              "#f0f921"
             ]
            ],
            "type": "heatmap"
           }
          ],
          "heatmapgl": [
           {
            "colorbar": {
             "outlinewidth": 0,
             "ticks": ""
            },
            "colorscale": [
             [
              0,
              "#0d0887"
             ],
             [
              0.1111111111111111,
              "#46039f"
             ],
             [
              0.2222222222222222,
              "#7201a8"
             ],
             [
              0.3333333333333333,
              "#9c179e"
             ],
             [
              0.4444444444444444,
              "#bd3786"
             ],
             [
              0.5555555555555556,
              "#d8576b"
             ],
             [
              0.6666666666666666,
              "#ed7953"
             ],
             [
              0.7777777777777778,
              "#fb9f3a"
             ],
             [
              0.8888888888888888,
              "#fdca26"
             ],
             [
              1,
              "#f0f921"
             ]
            ],
            "type": "heatmapgl"
           }
          ],
          "histogram": [
           {
            "marker": {
             "pattern": {
              "fillmode": "overlay",
              "size": 10,
              "solidity": 0.2
             }
            },
            "type": "histogram"
           }
          ],
          "histogram2d": [
           {
            "colorbar": {
             "outlinewidth": 0,
             "ticks": ""
            },
            "colorscale": [
             [
              0,
              "#0d0887"
             ],
             [
              0.1111111111111111,
              "#46039f"
             ],
             [
              0.2222222222222222,
              "#7201a8"
             ],
             [
              0.3333333333333333,
              "#9c179e"
             ],
             [
              0.4444444444444444,
              "#bd3786"
             ],
             [
              0.5555555555555556,
              "#d8576b"
             ],
             [
              0.6666666666666666,
              "#ed7953"
             ],
             [
              0.7777777777777778,
              "#fb9f3a"
             ],
             [
              0.8888888888888888,
              "#fdca26"
             ],
             [
              1,
              "#f0f921"
             ]
            ],
            "type": "histogram2d"
           }
          ],
          "histogram2dcontour": [
           {
            "colorbar": {
             "outlinewidth": 0,
             "ticks": ""
            },
            "colorscale": [
             [
              0,
              "#0d0887"
             ],
             [
              0.1111111111111111,
              "#46039f"
             ],
             [
              0.2222222222222222,
              "#7201a8"
             ],
             [
              0.3333333333333333,
              "#9c179e"
             ],
             [
              0.4444444444444444,
              "#bd3786"
             ],
             [
              0.5555555555555556,
              "#d8576b"
             ],
             [
              0.6666666666666666,
              "#ed7953"
             ],
             [
              0.7777777777777778,
              "#fb9f3a"
             ],
             [
              0.8888888888888888,
              "#fdca26"
             ],
             [
              1,
              "#f0f921"
             ]
            ],
            "type": "histogram2dcontour"
           }
          ],
          "mesh3d": [
           {
            "colorbar": {
             "outlinewidth": 0,
             "ticks": ""
            },
            "type": "mesh3d"
           }
          ],
          "parcoords": [
           {
            "line": {
             "colorbar": {
              "outlinewidth": 0,
              "ticks": ""
             }
            },
            "type": "parcoords"
           }
          ],
          "pie": [
           {
            "automargin": true,
            "type": "pie"
           }
          ],
          "scatter": [
           {
            "fillpattern": {
             "fillmode": "overlay",
             "size": 10,
             "solidity": 0.2
            },
            "type": "scatter"
           }
          ],
          "scatter3d": [
           {
            "line": {
             "colorbar": {
              "outlinewidth": 0,
              "ticks": ""
             }
            },
            "marker": {
             "colorbar": {
              "outlinewidth": 0,
              "ticks": ""
             }
            },
            "type": "scatter3d"
           }
          ],
          "scattercarpet": [
           {
            "marker": {
             "colorbar": {
              "outlinewidth": 0,
              "ticks": ""
             }
            },
            "type": "scattercarpet"
           }
          ],
          "scattergeo": [
           {
            "marker": {
             "colorbar": {
              "outlinewidth": 0,
              "ticks": ""
             }
            },
            "type": "scattergeo"
           }
          ],
          "scattergl": [
           {
            "marker": {
             "colorbar": {
              "outlinewidth": 0,
              "ticks": ""
             }
            },
            "type": "scattergl"
           }
          ],
          "scattermapbox": [
           {
            "marker": {
             "colorbar": {
              "outlinewidth": 0,
              "ticks": ""
             }
            },
            "type": "scattermapbox"
           }
          ],
          "scatterpolar": [
           {
            "marker": {
             "colorbar": {
              "outlinewidth": 0,
              "ticks": ""
             }
            },
            "type": "scatterpolar"
           }
          ],
          "scatterpolargl": [
           {
            "marker": {
             "colorbar": {
              "outlinewidth": 0,
              "ticks": ""
             }
            },
            "type": "scatterpolargl"
           }
          ],
          "scatterternary": [
           {
            "marker": {
             "colorbar": {
              "outlinewidth": 0,
              "ticks": ""
             }
            },
            "type": "scatterternary"
           }
          ],
          "surface": [
           {
            "colorbar": {
             "outlinewidth": 0,
             "ticks": ""
            },
            "colorscale": [
             [
              0,
              "#0d0887"
             ],
             [
              0.1111111111111111,
              "#46039f"
             ],
             [
              0.2222222222222222,
              "#7201a8"
             ],
             [
              0.3333333333333333,
              "#9c179e"
             ],
             [
              0.4444444444444444,
              "#bd3786"
             ],
             [
              0.5555555555555556,
              "#d8576b"
             ],
             [
              0.6666666666666666,
              "#ed7953"
             ],
             [
              0.7777777777777778,
              "#fb9f3a"
             ],
             [
              0.8888888888888888,
              "#fdca26"
             ],
             [
              1,
              "#f0f921"
             ]
            ],
            "type": "surface"
           }
          ],
          "table": [
           {
            "cells": {
             "fill": {
              "color": "#EBF0F8"
             },
             "line": {
              "color": "white"
             }
            },
            "header": {
             "fill": {
              "color": "#C8D4E3"
             },
             "line": {
              "color": "white"
             }
            },
            "type": "table"
           }
          ]
         },
         "layout": {
          "annotationdefaults": {
           "arrowcolor": "#2a3f5f",
           "arrowhead": 0,
           "arrowwidth": 1
          },
          "autotypenumbers": "strict",
          "coloraxis": {
           "colorbar": {
            "outlinewidth": 0,
            "ticks": ""
           }
          },
          "colorscale": {
           "diverging": [
            [
             0,
             "#8e0152"
            ],
            [
             0.1,
             "#c51b7d"
            ],
            [
             0.2,
             "#de77ae"
            ],
            [
             0.3,
             "#f1b6da"
            ],
            [
             0.4,
             "#fde0ef"
            ],
            [
             0.5,
             "#f7f7f7"
            ],
            [
             0.6,
             "#e6f5d0"
            ],
            [
             0.7,
             "#b8e186"
            ],
            [
             0.8,
             "#7fbc41"
            ],
            [
             0.9,
             "#4d9221"
            ],
            [
             1,
             "#276419"
            ]
           ],
           "sequential": [
            [
             0,
             "#0d0887"
            ],
            [
             0.1111111111111111,
             "#46039f"
            ],
            [
             0.2222222222222222,
             "#7201a8"
            ],
            [
             0.3333333333333333,
             "#9c179e"
            ],
            [
             0.4444444444444444,
             "#bd3786"
            ],
            [
             0.5555555555555556,
             "#d8576b"
            ],
            [
             0.6666666666666666,
             "#ed7953"
            ],
            [
             0.7777777777777778,
             "#fb9f3a"
            ],
            [
             0.8888888888888888,
             "#fdca26"
            ],
            [
             1,
             "#f0f921"
            ]
           ],
           "sequentialminus": [
            [
             0,
             "#0d0887"
            ],
            [
             0.1111111111111111,
             "#46039f"
            ],
            [
             0.2222222222222222,
             "#7201a8"
            ],
            [
             0.3333333333333333,
             "#9c179e"
            ],
            [
             0.4444444444444444,
             "#bd3786"
            ],
            [
             0.5555555555555556,
             "#d8576b"
            ],
            [
             0.6666666666666666,
             "#ed7953"
            ],
            [
             0.7777777777777778,
             "#fb9f3a"
            ],
            [
             0.8888888888888888,
             "#fdca26"
            ],
            [
             1,
             "#f0f921"
            ]
           ]
          },
          "colorway": [
           "#636efa",
           "#EF553B",
           "#00cc96",
           "#ab63fa",
           "#FFA15A",
           "#19d3f3",
           "#FF6692",
           "#B6E880",
           "#FF97FF",
           "#FECB52"
          ],
          "font": {
           "color": "#2a3f5f"
          },
          "geo": {
           "bgcolor": "white",
           "lakecolor": "white",
           "landcolor": "#E5ECF6",
           "showlakes": true,
           "showland": true,
           "subunitcolor": "white"
          },
          "hoverlabel": {
           "align": "left"
          },
          "hovermode": "closest",
          "mapbox": {
           "style": "light"
          },
          "paper_bgcolor": "white",
          "plot_bgcolor": "#E5ECF6",
          "polar": {
           "angularaxis": {
            "gridcolor": "white",
            "linecolor": "white",
            "ticks": ""
           },
           "bgcolor": "#E5ECF6",
           "radialaxis": {
            "gridcolor": "white",
            "linecolor": "white",
            "ticks": ""
           }
          },
          "scene": {
           "xaxis": {
            "backgroundcolor": "#E5ECF6",
            "gridcolor": "white",
            "gridwidth": 2,
            "linecolor": "white",
            "showbackground": true,
            "ticks": "",
            "zerolinecolor": "white"
           },
           "yaxis": {
            "backgroundcolor": "#E5ECF6",
            "gridcolor": "white",
            "gridwidth": 2,
            "linecolor": "white",
            "showbackground": true,
            "ticks": "",
            "zerolinecolor": "white"
           },
           "zaxis": {
            "backgroundcolor": "#E5ECF6",
            "gridcolor": "white",
            "gridwidth": 2,
            "linecolor": "white",
            "showbackground": true,
            "ticks": "",
            "zerolinecolor": "white"
           }
          },
          "shapedefaults": {
           "line": {
            "color": "#2a3f5f"
           }
          },
          "ternary": {
           "aaxis": {
            "gridcolor": "white",
            "linecolor": "white",
            "ticks": ""
           },
           "baxis": {
            "gridcolor": "white",
            "linecolor": "white",
            "ticks": ""
           },
           "bgcolor": "#E5ECF6",
           "caxis": {
            "gridcolor": "white",
            "linecolor": "white",
            "ticks": ""
           }
          },
          "title": {
           "x": 0.05
          },
          "xaxis": {
           "automargin": true,
           "gridcolor": "white",
           "linecolor": "white",
           "ticks": "",
           "title": {
            "standoff": 15
           },
           "zerolinecolor": "white",
           "zerolinewidth": 2
          },
          "yaxis": {
           "automargin": true,
           "gridcolor": "white",
           "linecolor": "white",
           "ticks": "",
           "title": {
            "standoff": 15
           },
           "zerolinecolor": "white",
           "zerolinewidth": 2
          }
         }
        },
        "title": {
         "text": "Top 10 Countries Where Employees are less than 100"
        }
       }
      }
     },
     "metadata": {},
     "output_type": "display_data"
    }
   ],
   "source": [
    "org_size_country_count(df,\"OrgSize\",size_value=\"20 to 99 employees\")"
   ]
  },
  {
   "cell_type": "markdown",
   "metadata": {},
   "source": [
    "# Conclusions\n",
    "•\tFrom our analysis we could infer that about 28% of our responders say that Udemy is the best platform to get certified as coder\n",
    "\n",
    "•\tWe see that USA is the leading country to have people coding under the age of 18, according to our data it is 35% of our responders\n",
    "\n",
    "•\tWith close to 29,000 responders. It could be inferred that the most popular type of developers are “Full-Stack” Developers\n",
    "\n",
    "•\tComing to the organization size we see majority of the organizations with less than 100 employees. Which could presumably be startups\n",
    "\n",
    "•\tAll these organizations are located in USA\n"
   ]
  },
  {
   "cell_type": "code",
   "execution_count": 27,
   "metadata": {},
   "outputs": [],
   "source": []
  }
 ],
 "metadata": {
  "kernelspec": {
   "display_name": "Python 3 (ipykernel)",
   "language": "python",
   "name": "python3"
  },
  "language_info": {
   "codemirror_mode": {
    "name": "ipython",
    "version": 3
   },
   "file_extension": ".py",
   "mimetype": "text/x-python",
   "name": "python",
   "nbconvert_exporter": "python",
   "pygments_lexer": "ipython3",
   "version": "3.8.2"
  }
 },
 "nbformat": 4,
 "nbformat_minor": 1
}
